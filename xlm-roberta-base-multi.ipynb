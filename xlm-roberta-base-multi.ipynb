{
 "cells": [
  {
   "cell_type": "code",
   "execution_count": 1,
   "id": "afcb942b",
   "metadata": {
    "_cell_guid": "bc102fd7-401b-467d-a7ff-c6de28bb0d32",
    "_uuid": "5e8275f1-f3d2-456c-9baa-491d684499e4",
    "collapsed": false,
    "execution": {
     "iopub.execute_input": "2024-09-12T03:44:24.081003Z",
     "iopub.status.busy": "2024-09-12T03:44:24.080644Z",
     "iopub.status.idle": "2024-09-12T03:44:56.744551Z",
     "shell.execute_reply": "2024-09-12T03:44:56.743789Z"
    },
    "jupyter": {
     "outputs_hidden": false
    },
    "papermill": {
     "duration": 32.670219,
     "end_time": "2024-09-12T03:44:56.746801",
     "exception": false,
     "start_time": "2024-09-12T03:44:24.076582",
     "status": "completed"
    },
    "tags": []
   },
   "outputs": [
    {
     "name": "stderr",
     "output_type": "stream",
     "text": [
      "WARNING: Logging before InitGoogle() is written to STDERR\n",
      "E0000 00:00:1726112669.936638      77 common_lib.cc:798] Could not set metric server port: INVALID_ARGUMENT: Could not find SliceBuilder port 8471 in any of the 0 ports provided in `tpu_process_addresses`=\"local\"\n",
      "=== Source Location Trace: === \n",
      "learning/45eac/tfrc/runtime/common_lib.cc:479\n",
      "D0912 03:44:29.944933860      77 config.cc:196]                        gRPC EXPERIMENT call_status_override_on_cancellation   OFF (default:OFF)\n",
      "D0912 03:44:29.944959515      77 config.cc:196]                        gRPC EXPERIMENT call_v3                                OFF (default:OFF)\n",
      "D0912 03:44:29.944963145      77 config.cc:196]                        gRPC EXPERIMENT canary_client_privacy                  ON  (default:ON)\n",
      "D0912 03:44:29.944965578      77 config.cc:196]                        gRPC EXPERIMENT capture_base_context                   ON  (default:ON)\n",
      "D0912 03:44:29.944967925      77 config.cc:196]                        gRPC EXPERIMENT client_idleness                        ON  (default:ON)\n",
      "D0912 03:44:29.944970208      77 config.cc:196]                        gRPC EXPERIMENT client_privacy                         ON  (default:ON)\n",
      "D0912 03:44:29.944972492      77 config.cc:196]                        gRPC EXPERIMENT dapper_request_wire_size               OFF (default:OFF)\n",
      "D0912 03:44:29.944974743      77 config.cc:196]                        gRPC EXPERIMENT empty_experiment                       OFF (default:OFF)\n",
      "D0912 03:44:29.944976935      77 config.cc:196]                        gRPC EXPERIMENT event_engine_client                    OFF (default:OFF)\n",
      "D0912 03:44:29.944979115      77 config.cc:196]                        gRPC EXPERIMENT event_engine_dns                       ON  (default:ON)\n",
      "D0912 03:44:29.944981367      77 config.cc:196]                        gRPC EXPERIMENT event_engine_listener                  ON  (default:ON)\n",
      "D0912 03:44:29.944983556      77 config.cc:196]                        gRPC EXPERIMENT free_large_allocator                   OFF (default:OFF)\n",
      "D0912 03:44:29.944985745      77 config.cc:196]                        gRPC EXPERIMENT google_no_envelope_resolver            OFF (default:OFF)\n",
      "D0912 03:44:29.944987949      77 config.cc:196]                        gRPC EXPERIMENT http2_stats_fix                        OFF (default:OFF)\n",
      "D0912 03:44:29.944990125      77 config.cc:196]                        gRPC EXPERIMENT keepalive_fix                          OFF (default:OFF)\n",
      "D0912 03:44:29.944992298      77 config.cc:196]                        gRPC EXPERIMENT keepalive_server_fix                   ON  (default:ON)\n",
      "D0912 03:44:29.944994671      77 config.cc:196]                        gRPC EXPERIMENT loas_do_not_prefer_rekey_next_protocol OFF (default:OFF)\n",
      "D0912 03:44:29.944996946      77 config.cc:196]                        gRPC EXPERIMENT loas_prod_to_cloud_prefer_pfs_ciphers  OFF (default:OFF)\n",
      "D0912 03:44:29.944999173      77 config.cc:196]                        gRPC EXPERIMENT monitoring_experiment                  ON  (default:ON)\n",
      "D0912 03:44:29.945001411      77 config.cc:196]                        gRPC EXPERIMENT multiping                              OFF (default:OFF)\n",
      "D0912 03:44:29.945003594      77 config.cc:196]                        gRPC EXPERIMENT peer_state_based_framing               OFF (default:OFF)\n",
      "D0912 03:44:29.945005818      77 config.cc:196]                        gRPC EXPERIMENT pending_queue_cap                      ON  (default:ON)\n",
      "D0912 03:44:29.945008107      77 config.cc:196]                        gRPC EXPERIMENT pick_first_happy_eyeballs              ON  (default:ON)\n",
      "D0912 03:44:29.945010313      77 config.cc:196]                        gRPC EXPERIMENT promise_based_client_call              OFF (default:OFF)\n",
      "D0912 03:44:29.945012452      77 config.cc:196]                        gRPC EXPERIMENT promise_based_inproc_transport         OFF (default:OFF)\n",
      "D0912 03:44:29.945014604      77 config.cc:196]                        gRPC EXPERIMENT promise_based_server_call              OFF (default:OFF)\n",
      "D0912 03:44:29.945016870      77 config.cc:196]                        gRPC EXPERIMENT registered_method_lookup_in_transport  ON  (default:ON)\n",
      "D0912 03:44:29.945019072      77 config.cc:196]                        gRPC EXPERIMENT rfc_max_concurrent_streams             ON  (default:ON)\n",
      "D0912 03:44:29.945021370      77 config.cc:196]                        gRPC EXPERIMENT round_robin_delegate_to_pick_first     ON  (default:ON)\n",
      "D0912 03:44:29.945024696      77 config.cc:196]                        gRPC EXPERIMENT rstpit                                 OFF (default:OFF)\n",
      "D0912 03:44:29.945027003      77 config.cc:196]                        gRPC EXPERIMENT schedule_cancellation_over_write       OFF (default:OFF)\n",
      "D0912 03:44:29.945029360      77 config.cc:196]                        gRPC EXPERIMENT server_privacy                         ON  (default:ON)\n",
      "D0912 03:44:29.945031663      77 config.cc:196]                        gRPC EXPERIMENT tcp_frame_size_tuning                  OFF (default:OFF)\n",
      "D0912 03:44:29.945033860      77 config.cc:196]                        gRPC EXPERIMENT tcp_rcv_lowat                          OFF (default:OFF)\n",
      "D0912 03:44:29.945036057      77 config.cc:196]                        gRPC EXPERIMENT trace_record_callops                   OFF (default:OFF)\n",
      "D0912 03:44:29.945038249      77 config.cc:196]                        gRPC EXPERIMENT unconstrained_max_quota_buffer_size    OFF (default:OFF)\n",
      "D0912 03:44:29.945040367      77 config.cc:196]                        gRPC EXPERIMENT v3_backend_metric_filter               OFF (default:OFF)\n",
      "D0912 03:44:29.945042554      77 config.cc:196]                        gRPC EXPERIMENT v3_channel_idle_filters                ON  (default:ON)\n",
      "D0912 03:44:29.945044769      77 config.cc:196]                        gRPC EXPERIMENT v3_compression_filter                  ON  (default:ON)\n",
      "D0912 03:44:29.945046957      77 config.cc:196]                        gRPC EXPERIMENT v3_server_auth_filter                  OFF (default:OFF)\n",
      "D0912 03:44:29.945049125      77 config.cc:196]                        gRPC EXPERIMENT work_serializer_clears_time_cache      OFF (default:OFF)\n",
      "D0912 03:44:29.945051242      77 config.cc:196]                        gRPC EXPERIMENT work_serializer_dispatch               OFF (default:OFF)\n",
      "D0912 03:44:29.945053447      77 config.cc:196]                        gRPC EXPERIMENT write_size_cap                         ON  (default:ON)\n",
      "D0912 03:44:29.945055676      77 config.cc:196]                        gRPC EXPERIMENT write_size_policy                      ON  (default:ON)\n",
      "D0912 03:44:29.945057899      77 config.cc:196]                        gRPC EXPERIMENT wrr_delegate_to_pick_first             ON  (default:ON)\n",
      "I0912 03:44:29.945309323      77 ev_epoll1_linux.cc:123]               grpc epoll fd: 56\n",
      "D0912 03:44:29.945323205      77 ev_posix.cc:113]                      Using polling engine: epoll1\n",
      "D0912 03:44:29.958490614      77 lb_policy_registry.cc:46]             registering LB policy factory for \"priority_experimental\"\n",
      "D0912 03:44:29.958503025      77 lb_policy_registry.cc:46]             registering LB policy factory for \"outlier_detection_experimental\"\n",
      "D0912 03:44:29.958511600      77 lb_policy_registry.cc:46]             registering LB policy factory for \"weighted_target_experimental\"\n",
      "D0912 03:44:29.958515373      77 lb_policy_registry.cc:46]             registering LB policy factory for \"pick_first\"\n",
      "D0912 03:44:29.958518958      77 lb_policy_registry.cc:46]             registering LB policy factory for \"round_robin\"\n",
      "D0912 03:44:29.958522292      77 lb_policy_registry.cc:46]             registering LB policy factory for \"weighted_round_robin\"\n",
      "D0912 03:44:29.958550588      77 lb_policy_registry.cc:46]             registering LB policy factory for \"grpclb\"\n",
      "D0912 03:44:29.958567151      77 dns_resolver_plugin.cc:43]            Using EventEngine dns resolver\n",
      "D0912 03:44:29.958584866      77 lb_policy_registry.cc:46]             registering LB policy factory for \"rls_experimental\"\n",
      "D0912 03:44:29.958611678      77 lb_policy_registry.cc:46]             registering LB policy factory for \"xds_cluster_manager_experimental\"\n",
      "D0912 03:44:29.958620093      77 lb_policy_registry.cc:46]             registering LB policy factory for \"xds_cluster_impl_experimental\"\n",
      "D0912 03:44:29.958623668      77 lb_policy_registry.cc:46]             registering LB policy factory for \"cds_experimental\"\n",
      "D0912 03:44:29.958627943      77 lb_policy_registry.cc:46]             registering LB policy factory for \"xds_override_host_experimental\"\n",
      "D0912 03:44:29.958631429      77 lb_policy_registry.cc:46]             registering LB policy factory for \"xds_wrr_locality_experimental\"\n",
      "D0912 03:44:29.958634958      77 lb_policy_registry.cc:46]             registering LB policy factory for \"ring_hash_experimental\"\n",
      "D0912 03:44:29.958638546      77 certificate_provider_registry.cc:33]  registering certificate provider factory for \"file_watcher\"\n",
      "D0912 03:44:29.958685224      77 channel_init.cc:157]                  Filter server-auth not registered, but is referenced in the after clause of grpc-server-authz when building channel stack SERVER_CHANNEL\n",
      "I0912 03:44:29.960450233      77 ev_epoll1_linux.cc:359]               grpc epoll fd: 58\n",
      "I0912 03:44:29.961962284      77 tcp_socket_utils.cc:689]              Disabling AF_INET6 sockets because ::1 is not available.\n",
      "I0912 03:44:29.965663678     173 socket_utils_common_posix.cc:452]     Disabling AF_INET6 sockets because ::1 is not available.\n",
      "I0912 03:44:29.965739673     173 socket_utils_common_posix.cc:379]     TCP_USER_TIMEOUT is available. TCP_USER_TIMEOUT will be used thereafter\n",
      "E0912 03:44:29.971758756      77 oauth2_credentials.cc:238]            oauth_fetch: UNKNOWN:C-ares status is not ARES_SUCCESS qtype=A name=metadata.google.internal. is_balancer=0: Domain name not found {created_time:\"2024-09-12T03:44:29.97174332+00:00\", grpc_status:2}\n"
     ]
    },
    {
     "name": "stderr",
     "output_type": "stream",
     "text": [
      "/usr/local/lib/python3.10/site-packages/tqdm/auto.py:21: TqdmWarning: IProgress not found. Please update jupyter and ipywidgets. See https://ipywidgets.readthedocs.io/en/stable/user_install.html\n",
      "  from .autonotebook import tqdm as notebook_tqdm\n"
     ]
    }
   ],
   "source": [
    "import tensorflow as tf\n",
    "from transformers import TFAutoModel, AutoTokenizer, AutoModelForSequenceClassification\n",
    "\n",
    "import pandas as pd"
   ]
  },
  {
   "cell_type": "code",
   "execution_count": 2,
   "id": "fd925ba2",
   "metadata": {
    "_cell_guid": "69b4bf00-44d8-48d9-bf49-c1b97cbd979a",
    "_uuid": "aee068c7-6060-4cee-bf99-37dd541fbe7f",
    "collapsed": false,
    "execution": {
     "iopub.execute_input": "2024-09-12T03:44:56.754190Z",
     "iopub.status.busy": "2024-09-12T03:44:56.753752Z",
     "iopub.status.idle": "2024-09-12T03:44:56.894514Z",
     "shell.execute_reply": "2024-09-12T03:44:56.893721Z"
    },
    "jupyter": {
     "outputs_hidden": false
    },
    "papermill": {
     "duration": 0.146391,
     "end_time": "2024-09-12T03:44:56.896827",
     "exception": false,
     "start_time": "2024-09-12T03:44:56.750436",
     "status": "completed"
    },
    "tags": []
   },
   "outputs": [],
   "source": [
    "train=pd.read_csv(\"/kaggle/input/contradictory-my-dear-watson/train.csv\")\n",
    "test=pd.read_csv(\"/kaggle/input/contradictory-my-dear-watson/test.csv\")"
   ]
  },
  {
   "cell_type": "code",
   "execution_count": 3,
   "id": "3a741462",
   "metadata": {
    "execution": {
     "iopub.execute_input": "2024-09-12T03:44:56.903398Z",
     "iopub.status.busy": "2024-09-12T03:44:56.902650Z",
     "iopub.status.idle": "2024-09-12T03:44:56.906799Z",
     "shell.execute_reply": "2024-09-12T03:44:56.906057Z"
    },
    "papermill": {
     "duration": 0.009476,
     "end_time": "2024-09-12T03:44:56.908502",
     "exception": false,
     "start_time": "2024-09-12T03:44:56.899026",
     "status": "completed"
    },
    "tags": []
   },
   "outputs": [],
   "source": [
    "premise=test['premise'].tolist()"
   ]
  },
  {
   "cell_type": "code",
   "execution_count": 4,
   "id": "9b48e710",
   "metadata": {
    "execution": {
     "iopub.execute_input": "2024-09-12T03:44:56.914089Z",
     "iopub.status.busy": "2024-09-12T03:44:56.913814Z",
     "iopub.status.idle": "2024-09-12T03:44:56.917192Z",
     "shell.execute_reply": "2024-09-12T03:44:56.916592Z"
    },
    "papermill": {
     "duration": 0.008209,
     "end_time": "2024-09-12T03:44:56.918849",
     "exception": false,
     "start_time": "2024-09-12T03:44:56.910640",
     "status": "completed"
    },
    "tags": []
   },
   "outputs": [],
   "source": [
    "hypothesis=test['hypothesis'].tolist()"
   ]
  },
  {
   "cell_type": "code",
   "execution_count": 5,
   "id": "adc2fbee",
   "metadata": {
    "execution": {
     "iopub.execute_input": "2024-09-12T03:44:56.924744Z",
     "iopub.status.busy": "2024-09-12T03:44:56.924281Z",
     "iopub.status.idle": "2024-09-12T04:24:11.111666Z",
     "shell.execute_reply": "2024-09-12T04:24:11.110689Z"
    },
    "papermill": {
     "duration": 2354.194433,
     "end_time": "2024-09-12T04:24:11.115222",
     "exception": false,
     "start_time": "2024-09-12T03:44:56.920789",
     "status": "completed"
    },
    "tags": []
   },
   "outputs": [
    {
     "name": "stderr",
     "output_type": "stream",
     "text": [
      "WARNING: All log messages before absl::InitializeLog() is called are written to STDERR\n",
      "I0000 00:00:1726112705.763979      77 service.cc:145] XLA service 0x5c2a7f58e400 initialized for platform TPU (this does not guarantee that XLA will be used). Devices:\n",
      "I0000 00:00:1726112705.764037      77 service.cc:153]   StreamExecutor device (0): TPU, 2a886c8\n",
      "I0000 00:00:1726112705.764042      77 service.cc:153]   StreamExecutor device (1): TPU, 2a886c8\n",
      "I0000 00:00:1726112705.764044      77 service.cc:153]   StreamExecutor device (2): TPU, 2a886c8\n",
      "I0000 00:00:1726112705.764049      77 service.cc:153]   StreamExecutor device (3): TPU, 2a886c8\n",
      "I0000 00:00:1726112705.764052      77 service.cc:153]   StreamExecutor device (4): TPU, 2a886c8\n",
      "I0000 00:00:1726112705.764054      77 service.cc:153]   StreamExecutor device (5): TPU, 2a886c8\n",
      "I0000 00:00:1726112705.764061      77 service.cc:153]   StreamExecutor device (6): TPU, 2a886c8\n",
      "I0000 00:00:1726112705.764064      77 service.cc:153]   StreamExecutor device (7): TPU, 2a886c8\n"
     ]
    },
    {
     "name": "stderr",
     "output_type": "stream",
     "text": [
      "Some weights of the PyTorch model were not used when initializing the TF 2.0 model TFDebertaV2ForSequenceClassification: ['deberta.embeddings.position_ids']\n",
      "- This IS expected if you are initializing TFDebertaV2ForSequenceClassification from a PyTorch model trained on another task or with another architecture (e.g. initializing a TFBertForSequenceClassification model from a BertForPreTraining model).\n",
      "- This IS NOT expected if you are initializing TFDebertaV2ForSequenceClassification from a PyTorch model that you expect to be exactly identical (e.g. initializing a TFBertForSequenceClassification model from a BertForSequenceClassification model).\n"
     ]
    },
    {
     "name": "stderr",
     "output_type": "stream",
     "text": [
      "All the weights of TFDebertaV2ForSequenceClassification were initialized from the PyTorch model.\n",
      "If your task is similar to the task the model of the checkpoint was trained on, you can already use TFDebertaV2ForSequenceClassification for predictions without further training.\n"
     ]
    },
    {
     "name": "stdout",
     "output_type": "stream",
     "text": [
      "{'entailment': 0.0, 'neutral': 0.0, 'contradiction': 100.0}\n"
     ]
    }
   ],
   "source": [
    "from transformers import AutoTokenizer, TFAutoModelForSequenceClassification\n",
    "import tensorflow as tf\n",
    "\n",
    "# Load the tokenizer and model\n",
    "\n",
    "model_name = \"MoritzLaurer/mDeBERTa-v3-base-mnli-xnli\"\n",
    "tokenizer = AutoTokenizer.from_pretrained(model_name)\n",
    "model = TFAutoModelForSequenceClassification.from_pretrained(model_name)\n",
    "\n",
    "# Define the input\n",
    "\n",
    "# Tokenize input\n",
    "inputs = tokenizer(premise, hypothesis, truncation=True, padding=True, return_tensors=\"tf\")\n",
    "\n",
    "# Run inference\n",
    "outputs = model(inputs)\n",
    "logits = outputs.logits\n",
    "\n",
    "# Process results\n",
    "predictions = tf.nn.softmax(logits, axis=-1)\n",
    "label_names = [\"entailment\", \"neutral\", \"contradiction\"]\n",
    "prediction = {name: round(float(pred) * 100, 1) for pred, name in zip(predictions[0].numpy(), label_names)}\n",
    "\n",
    "print(prediction)\n"
   ]
  },
  {
   "cell_type": "code",
   "execution_count": 6,
   "id": "f9c0a347",
   "metadata": {
    "execution": {
     "iopub.execute_input": "2024-09-12T04:24:11.121187Z",
     "iopub.status.busy": "2024-09-12T04:24:11.120873Z",
     "iopub.status.idle": "2024-09-12T04:24:11.128925Z",
     "shell.execute_reply": "2024-09-12T04:24:11.128243Z"
    },
    "papermill": {
     "duration": 0.013136,
     "end_time": "2024-09-12T04:24:11.130581",
     "exception": false,
     "start_time": "2024-09-12T04:24:11.117445",
     "status": "completed"
    },
    "tags": []
   },
   "outputs": [
    {
     "data": {
      "text/plain": [
       "<tf.Tensor: shape=(5195, 3), dtype=float32, numpy=\n",
       "array([[2.2774829e-04, 2.2177960e-04, 9.9955040e-01],\n",
       "       [4.3506917e-04, 9.3541110e-01, 6.4153805e-02],\n",
       "       [9.9886215e-01, 1.0460539e-03, 9.1794573e-05],\n",
       "       ...,\n",
       "       [9.9684924e-01, 1.8347263e-03, 1.3161352e-03],\n",
       "       [9.9487829e-01, 4.5765685e-03, 5.4511736e-04],\n",
       "       [1.2930250e-04, 3.0567235e-04, 9.9956506e-01]], dtype=float32)>"
      ]
     },
     "execution_count": 6,
     "metadata": {},
     "output_type": "execute_result"
    }
   ],
   "source": [
    "predictions"
   ]
  },
  {
   "cell_type": "code",
   "execution_count": 7,
   "id": "b3d3e348",
   "metadata": {
    "execution": {
     "iopub.execute_input": "2024-09-12T04:24:11.136625Z",
     "iopub.status.busy": "2024-09-12T04:24:11.136399Z",
     "iopub.status.idle": "2024-09-12T04:24:11.149613Z",
     "shell.execute_reply": "2024-09-12T04:24:11.148929Z"
    },
    "papermill": {
     "duration": 0.01817,
     "end_time": "2024-09-12T04:24:11.151300",
     "exception": false,
     "start_time": "2024-09-12T04:24:11.133130",
     "status": "completed"
    },
    "tags": []
   },
   "outputs": [
    {
     "data": {
      "text/html": [
       "<div>\n",
       "<style scoped>\n",
       "    .dataframe tbody tr th:only-of-type {\n",
       "        vertical-align: middle;\n",
       "    }\n",
       "\n",
       "    .dataframe tbody tr th {\n",
       "        vertical-align: top;\n",
       "    }\n",
       "\n",
       "    .dataframe thead th {\n",
       "        text-align: right;\n",
       "    }\n",
       "</style>\n",
       "<table border=\"1\" class=\"dataframe\">\n",
       "  <thead>\n",
       "    <tr style=\"text-align: right;\">\n",
       "      <th></th>\n",
       "      <th>id</th>\n",
       "      <th>prediction</th>\n",
       "    </tr>\n",
       "  </thead>\n",
       "  <tbody>\n",
       "    <tr>\n",
       "      <th>0</th>\n",
       "      <td>c6d58c3f69</td>\n",
       "      <td>2</td>\n",
       "    </tr>\n",
       "    <tr>\n",
       "      <th>1</th>\n",
       "      <td>cefcc82292</td>\n",
       "      <td>1</td>\n",
       "    </tr>\n",
       "    <tr>\n",
       "      <th>2</th>\n",
       "      <td>e98005252c</td>\n",
       "      <td>0</td>\n",
       "    </tr>\n",
       "    <tr>\n",
       "      <th>3</th>\n",
       "      <td>58518c10ba</td>\n",
       "      <td>1</td>\n",
       "    </tr>\n",
       "    <tr>\n",
       "      <th>4</th>\n",
       "      <td>c32b0d16df</td>\n",
       "      <td>1</td>\n",
       "    </tr>\n",
       "    <tr>\n",
       "      <th>...</th>\n",
       "      <td>...</td>\n",
       "      <td>...</td>\n",
       "    </tr>\n",
       "    <tr>\n",
       "      <th>5190</th>\n",
       "      <td>5f90dd59b0</td>\n",
       "      <td>0</td>\n",
       "    </tr>\n",
       "    <tr>\n",
       "      <th>5191</th>\n",
       "      <td>f357a04e86</td>\n",
       "      <td>2</td>\n",
       "    </tr>\n",
       "    <tr>\n",
       "      <th>5192</th>\n",
       "      <td>1f0ea92118</td>\n",
       "      <td>0</td>\n",
       "    </tr>\n",
       "    <tr>\n",
       "      <th>5193</th>\n",
       "      <td>0407b48afb</td>\n",
       "      <td>0</td>\n",
       "    </tr>\n",
       "    <tr>\n",
       "      <th>5194</th>\n",
       "      <td>16c2f2ab89</td>\n",
       "      <td>2</td>\n",
       "    </tr>\n",
       "  </tbody>\n",
       "</table>\n",
       "<p>5195 rows × 2 columns</p>\n",
       "</div>"
      ],
      "text/plain": [
       "              id  prediction\n",
       "0     c6d58c3f69           2\n",
       "1     cefcc82292           1\n",
       "2     e98005252c           0\n",
       "3     58518c10ba           1\n",
       "4     c32b0d16df           1\n",
       "...          ...         ...\n",
       "5190  5f90dd59b0           0\n",
       "5191  f357a04e86           2\n",
       "5192  1f0ea92118           0\n",
       "5193  0407b48afb           0\n",
       "5194  16c2f2ab89           2\n",
       "\n",
       "[5195 rows x 2 columns]"
      ]
     },
     "execution_count": 7,
     "metadata": {},
     "output_type": "execute_result"
    }
   ],
   "source": [
    "import numpy as np\n",
    "submission = test.id.copy().to_frame()\n",
    "submission[\"prediction\"] = np.argmax(predictions, axis=1)\n",
    "\n",
    "submission"
   ]
  },
  {
   "cell_type": "code",
   "execution_count": 8,
   "id": "b845db15",
   "metadata": {
    "execution": {
     "iopub.execute_input": "2024-09-12T04:24:11.157461Z",
     "iopub.status.busy": "2024-09-12T04:24:11.157236Z",
     "iopub.status.idle": "2024-09-12T04:24:11.166803Z",
     "shell.execute_reply": "2024-09-12T04:24:11.166125Z"
    },
    "papermill": {
     "duration": 0.014539,
     "end_time": "2024-09-12T04:24:11.168452",
     "exception": false,
     "start_time": "2024-09-12T04:24:11.153913",
     "status": "completed"
    },
    "tags": []
   },
   "outputs": [],
   "source": [
    "submission.to_csv(\"submission.csv\", index=False)"
   ]
  }
 ],
 "metadata": {
  "kaggle": {
   "accelerator": "tpu1vmV38",
   "dataSources": [
    {
     "databundleVersionId": 1408234,
     "sourceId": 21733,
     "sourceType": "competition"
    }
   ],
   "isGpuEnabled": false,
   "isInternetEnabled": true,
   "language": "python",
   "sourceType": "notebook"
  },
  "kernelspec": {
   "display_name": "Python 3",
   "language": "python",
   "name": "python3"
  },
  "language_info": {
   "codemirror_mode": {
    "name": "ipython",
    "version": 3
   },
   "file_extension": ".py",
   "mimetype": "text/x-python",
   "name": "python",
   "nbconvert_exporter": "python",
   "pygments_lexer": "ipython3",
   "version": "3.10.14"
  },
  "papermill": {
   "default_parameters": {},
   "duration": 2393.318584,
   "end_time": "2024-09-12T04:24:15.866512",
   "environment_variables": {},
   "exception": null,
   "input_path": "__notebook__.ipynb",
   "output_path": "__notebook__.ipynb",
   "parameters": {},
   "start_time": "2024-09-12T03:44:22.547928",
   "version": "2.6.0"
  }
 },
 "nbformat": 4,
 "nbformat_minor": 5
}
