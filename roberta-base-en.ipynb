{
 "cells": [
  {
   "cell_type": "code",
   "execution_count": 1,
   "id": "172e56c5",
   "metadata": {
    "_cell_guid": "eb1ecb3f-ab53-4325-b3bb-8e83ce062f5b",
    "_uuid": "fdcae4a3-06e3-447b-97d9-23eee714ea3d",
    "collapsed": false,
    "execution": {
     "iopub.execute_input": "2024-09-10T21:17:01.890758Z",
     "iopub.status.busy": "2024-09-10T21:17:01.890358Z",
     "iopub.status.idle": "2024-09-10T21:17:19.443177Z",
     "shell.execute_reply": "2024-09-10T21:17:19.442397Z"
    },
    "jupyter": {
     "outputs_hidden": false
    },
    "papermill": {
     "duration": 17.562815,
     "end_time": "2024-09-10T21:17:19.445542",
     "exception": false,
     "start_time": "2024-09-10T21:17:01.882727",
     "status": "completed"
    },
    "tags": []
   },
   "outputs": [],
   "source": [
    "import tensorflow as tf\n",
    "from transformers import TFAutoModel, AutoTokenizer\n",
    "from datasets import load_dataset\n",
    "import pandas as pd"
   ]
  },
  {
   "cell_type": "code",
   "execution_count": 2,
   "id": "c032bd38",
   "metadata": {
    "_cell_guid": "9f45a87e-17fd-43d1-b85f-7bb8e5d76ca2",
    "_uuid": "610cb16e-a518-4da0-a40e-a58dff3fc077",
    "collapsed": false,
    "execution": {
     "iopub.execute_input": "2024-09-10T21:17:19.458637Z",
     "iopub.status.busy": "2024-09-10T21:17:19.457784Z",
     "iopub.status.idle": "2024-09-10T21:17:19.552973Z",
     "shell.execute_reply": "2024-09-10T21:17:19.552074Z"
    },
    "jupyter": {
     "outputs_hidden": false
    },
    "papermill": {
     "duration": 0.103991,
     "end_time": "2024-09-10T21:17:19.555325",
     "exception": false,
     "start_time": "2024-09-10T21:17:19.451334",
     "status": "completed"
    },
    "tags": []
   },
   "outputs": [
    {
     "name": "stdout",
     "output_type": "stream",
     "text": [
      "Num GPUs Available:  2\n"
     ]
    }
   ],
   "source": [
    "print(\"Num GPUs Available: \", len(tf.config.list_physical_devices('GPU')))"
   ]
  },
  {
   "cell_type": "code",
   "execution_count": 3,
   "id": "89ba1428",
   "metadata": {
    "_cell_guid": "f0593d9c-bc4a-4961-9270-de816be7a74a",
    "_uuid": "64d24016-d1d5-4e68-a932-e203cdc8544e",
    "collapsed": false,
    "execution": {
     "iopub.execute_input": "2024-09-10T21:17:19.568896Z",
     "iopub.status.busy": "2024-09-10T21:17:19.567976Z",
     "iopub.status.idle": "2024-09-10T21:17:20.419569Z",
     "shell.execute_reply": "2024-09-10T21:17:20.418542Z"
    },
    "jupyter": {
     "outputs_hidden": false
    },
    "papermill": {
     "duration": 0.860551,
     "end_time": "2024-09-10T21:17:20.422057",
     "exception": false,
     "start_time": "2024-09-10T21:17:19.561506",
     "status": "completed"
    },
    "tags": []
   },
   "outputs": [],
   "source": [
    "strategy = tf.distribute.MirroredStrategy()"
   ]
  },
  {
   "cell_type": "code",
   "execution_count": 4,
   "id": "0d240af5",
   "metadata": {
    "_cell_guid": "5490bf9f-e2e3-422e-afb0-1cc1be56e25b",
    "_uuid": "5f5872b3-3ab3-4351-b091-00e60762b19c",
    "collapsed": false,
    "execution": {
     "iopub.execute_input": "2024-09-10T21:17:20.434533Z",
     "iopub.status.busy": "2024-09-10T21:17:20.434181Z",
     "iopub.status.idle": "2024-09-10T21:17:20.499772Z",
     "shell.execute_reply": "2024-09-10T21:17:20.498949Z"
    },
    "jupyter": {
     "outputs_hidden": false
    },
    "papermill": {
     "duration": 0.074106,
     "end_time": "2024-09-10T21:17:20.501925",
     "exception": false,
     "start_time": "2024-09-10T21:17:20.427819",
     "status": "completed"
    },
    "tags": []
   },
   "outputs": [],
   "source": [
    "train=pd.read_csv(\"/kaggle/input/nlp-getting-started/train.csv\")\n",
    "test=pd.read_csv(\"/kaggle/input/nlp-getting-started/test.csv\")"
   ]
  },
  {
   "cell_type": "code",
   "execution_count": 5,
   "id": "3a6c67b6",
   "metadata": {
    "execution": {
     "iopub.execute_input": "2024-09-10T21:17:20.514996Z",
     "iopub.status.busy": "2024-09-10T21:17:20.514671Z",
     "iopub.status.idle": "2024-09-10T21:17:20.523077Z",
     "shell.execute_reply": "2024-09-10T21:17:20.522359Z"
    },
    "papermill": {
     "duration": 0.016744,
     "end_time": "2024-09-10T21:17:20.525009",
     "exception": false,
     "start_time": "2024-09-10T21:17:20.508265",
     "status": "completed"
    },
    "tags": []
   },
   "outputs": [],
   "source": [
    "x_train=train[\"text\"]\n",
    "x_test=test[\"text\"]\n"
   ]
  },
  {
   "cell_type": "code",
   "execution_count": 6,
   "id": "f81df1b6",
   "metadata": {
    "execution": {
     "iopub.execute_input": "2024-09-10T21:17:20.537230Z",
     "iopub.status.busy": "2024-09-10T21:17:20.536938Z",
     "iopub.status.idle": "2024-09-10T21:17:20.612777Z",
     "shell.execute_reply": "2024-09-10T21:17:20.612033Z"
    },
    "papermill": {
     "duration": 0.084117,
     "end_time": "2024-09-10T21:17:20.614740",
     "exception": false,
     "start_time": "2024-09-10T21:17:20.530623",
     "status": "completed"
    },
    "tags": []
   },
   "outputs": [],
   "source": [
    "import re\n",
    "x_train=x_train.apply(lambda x: re.sub(r'http\\S+|www\\S+', '', x))\n",
    "\n",
    "# Remove Hashtags\n",
    "x_train =x_train.apply(lambda x: re.sub(r'#\\w+', '', x))\n",
    "\n",
    "# Remove Mentions\n",
    "x_train =x_train.apply(lambda x: re.sub(r'@\\w+', '', x))\n",
    "\n",
    "# Remove extra spaces after cleaning\n",
    "x_train =x_train.apply(lambda x: ' '.join(x.split()))"
   ]
  },
  {
   "cell_type": "code",
   "execution_count": 7,
   "id": "787d6b4d",
   "metadata": {
    "execution": {
     "iopub.execute_input": "2024-09-10T21:17:20.627724Z",
     "iopub.status.busy": "2024-09-10T21:17:20.627390Z",
     "iopub.status.idle": "2024-09-10T21:17:21.764320Z",
     "shell.execute_reply": "2024-09-10T21:17:21.763289Z"
    },
    "papermill": {
     "duration": 1.146344,
     "end_time": "2024-09-10T21:17:21.766891",
     "exception": false,
     "start_time": "2024-09-10T21:17:20.620547",
     "status": "completed"
    },
    "tags": []
   },
   "outputs": [],
   "source": [
    "from sklearn.model_selection import train_test_split\n",
    "X_train, X_val, y_train, y_val = train_test_split(x_train, train[\"target\"], test_size=0.2, random_state=42)"
   ]
  },
  {
   "cell_type": "code",
   "execution_count": 8,
   "id": "b09c7198",
   "metadata": {
    "execution": {
     "iopub.execute_input": "2024-09-10T21:17:21.780504Z",
     "iopub.status.busy": "2024-09-10T21:17:21.779847Z",
     "iopub.status.idle": "2024-09-10T21:17:21.790134Z",
     "shell.execute_reply": "2024-09-10T21:17:21.789113Z"
    },
    "papermill": {
     "duration": 0.019308,
     "end_time": "2024-09-10T21:17:21.792280",
     "exception": false,
     "start_time": "2024-09-10T21:17:21.772972",
     "status": "completed"
    },
    "tags": []
   },
   "outputs": [
    {
     "data": {
      "text/plain": [
       "2644    1\n",
       "2227    0\n",
       "5448    1\n",
       "132     0\n",
       "6845    0\n",
       "       ..\n",
       "1835    0\n",
       "506     1\n",
       "3592    1\n",
       "6740    1\n",
       "1634    0\n",
       "Name: target, Length: 1523, dtype: int64"
      ]
     },
     "execution_count": 8,
     "metadata": {},
     "output_type": "execute_result"
    }
   ],
   "source": [
    "y_val"
   ]
  },
  {
   "cell_type": "code",
   "execution_count": 9,
   "id": "469fdb52",
   "metadata": {
    "execution": {
     "iopub.execute_input": "2024-09-10T21:17:21.806192Z",
     "iopub.status.busy": "2024-09-10T21:17:21.805317Z",
     "iopub.status.idle": "2024-09-10T21:17:35.368183Z",
     "shell.execute_reply": "2024-09-10T21:17:35.367189Z"
    },
    "papermill": {
     "duration": 13.571502,
     "end_time": "2024-09-10T21:17:35.370130",
     "exception": false,
     "start_time": "2024-09-10T21:17:21.798628",
     "status": "completed"
    },
    "tags": []
   },
   "outputs": [
    {
     "data": {
      "text/html": [
       "<pre style=\"white-space:pre;overflow-x:auto;line-height:normal;font-family:Menlo,'DejaVu Sans Mono',consolas,'Courier New',monospace\"><span style=\"font-weight: bold\">Preprocessor: \"preprocessor_4_tweets\"</span>\n",
       "</pre>\n"
      ],
      "text/plain": [
       "\u001b[1mPreprocessor: \"preprocessor_4_tweets\"\u001b[0m\n"
      ]
     },
     "metadata": {},
     "output_type": "display_data"
    },
    {
     "data": {
      "text/html": [
       "<pre style=\"white-space:pre;overflow-x:auto;line-height:normal;font-family:Menlo,'DejaVu Sans Mono',consolas,'Courier New',monospace\">┏━━━━━━━━━━━━━━━━━━━━━━━━━━━━━━━━━━━━━━━━━━━━━━━━━━━━┳━━━━━━━━━━━━━━━━━━━━━━━━━━━━━━━━━━━━━━━━━━━━━━━━━━━━━┓\n",
       "┃<span style=\"font-weight: bold\"> Tokenizer (type)                                   </span>┃<span style=\"font-weight: bold\">                                             Vocab # </span>┃\n",
       "┡━━━━━━━━━━━━━━━━━━━━━━━━━━━━━━━━━━━━━━━━━━━━━━━━━━━━╇━━━━━━━━━━━━━━━━━━━━━━━━━━━━━━━━━━━━━━━━━━━━━━━━━━━━━┩\n",
       "│ distil_bert_tokenizer (<span style=\"color: #0087ff; text-decoration-color: #0087ff\">DistilBertTokenizer</span>)        │                                              <span style=\"color: #00af00; text-decoration-color: #00af00\">30,522</span> │\n",
       "└────────────────────────────────────────────────────┴─────────────────────────────────────────────────────┘\n",
       "</pre>\n"
      ],
      "text/plain": [
       "┏━━━━━━━━━━━━━━━━━━━━━━━━━━━━━━━━━━━━━━━━━━━━━━━━━━━━┳━━━━━━━━━━━━━━━━━━━━━━━━━━━━━━━━━━━━━━━━━━━━━━━━━━━━━┓\n",
       "┃\u001b[1m \u001b[0m\u001b[1mTokenizer (type)                                  \u001b[0m\u001b[1m \u001b[0m┃\u001b[1m \u001b[0m\u001b[1m                                            Vocab #\u001b[0m\u001b[1m \u001b[0m┃\n",
       "┡━━━━━━━━━━━━━━━━━━━━━━━━━━━━━━━━━━━━━━━━━━━━━━━━━━━━╇━━━━━━━━━━━━━━━━━━━━━━━━━━━━━━━━━━━━━━━━━━━━━━━━━━━━━┩\n",
       "│ distil_bert_tokenizer (\u001b[38;5;33mDistilBertTokenizer\u001b[0m)        │                                              \u001b[38;5;34m30,522\u001b[0m │\n",
       "└────────────────────────────────────────────────────┴─────────────────────────────────────────────────────┘\n"
      ]
     },
     "metadata": {},
     "output_type": "display_data"
    },
    {
     "data": {
      "text/html": [
       "<pre style=\"white-space:pre;overflow-x:auto;line-height:normal;font-family:Menlo,'DejaVu Sans Mono',consolas,'Courier New',monospace\"><span style=\"font-weight: bold\">Model: \"distil_bert_classifier\"</span>\n",
       "</pre>\n"
      ],
      "text/plain": [
       "\u001b[1mModel: \"distil_bert_classifier\"\u001b[0m\n"
      ]
     },
     "metadata": {},
     "output_type": "display_data"
    },
    {
     "data": {
      "text/html": [
       "<pre style=\"white-space:pre;overflow-x:auto;line-height:normal;font-family:Menlo,'DejaVu Sans Mono',consolas,'Courier New',monospace\">┏━━━━━━━━━━━━━━━━━━━━━━━━━━━━━━━┳━━━━━━━━━━━━━━━━━━━━━━━━━━━┳━━━━━━━━━━━━━━━━━┳━━━━━━━━━━━━━━━━━━━━━━━━━━━━┓\n",
       "┃<span style=\"font-weight: bold\"> Layer (type)                  </span>┃<span style=\"font-weight: bold\"> Output Shape              </span>┃<span style=\"font-weight: bold\">         Param # </span>┃<span style=\"font-weight: bold\"> Connected to               </span>┃\n",
       "┡━━━━━━━━━━━━━━━━━━━━━━━━━━━━━━━╇━━━━━━━━━━━━━━━━━━━━━━━━━━━╇━━━━━━━━━━━━━━━━━╇━━━━━━━━━━━━━━━━━━━━━━━━━━━━┩\n",
       "│ padding_mask (<span style=\"color: #0087ff; text-decoration-color: #0087ff\">InputLayer</span>)     │ (<span style=\"color: #00d7ff; text-decoration-color: #00d7ff\">None</span>, <span style=\"color: #00d7ff; text-decoration-color: #00d7ff\">None</span>)              │               <span style=\"color: #00af00; text-decoration-color: #00af00\">0</span> │ -                          │\n",
       "├───────────────────────────────┼───────────────────────────┼─────────────────┼────────────────────────────┤\n",
       "│ token_ids (<span style=\"color: #0087ff; text-decoration-color: #0087ff\">InputLayer</span>)        │ (<span style=\"color: #00d7ff; text-decoration-color: #00d7ff\">None</span>, <span style=\"color: #00d7ff; text-decoration-color: #00d7ff\">None</span>)              │               <span style=\"color: #00af00; text-decoration-color: #00af00\">0</span> │ -                          │\n",
       "├───────────────────────────────┼───────────────────────────┼─────────────────┼────────────────────────────┤\n",
       "│ distil_bert_backbone          │ (<span style=\"color: #00d7ff; text-decoration-color: #00d7ff\">None</span>, <span style=\"color: #00d7ff; text-decoration-color: #00d7ff\">None</span>, <span style=\"color: #00af00; text-decoration-color: #00af00\">768</span>)         │      <span style=\"color: #00af00; text-decoration-color: #00af00\">66,362,880</span> │ padding_mask[<span style=\"color: #00af00; text-decoration-color: #00af00\">0</span>][<span style=\"color: #00af00; text-decoration-color: #00af00\">0</span>],        │\n",
       "│ (<span style=\"color: #0087ff; text-decoration-color: #0087ff\">DistilBertBackbone</span>)          │                           │                 │ token_ids[<span style=\"color: #00af00; text-decoration-color: #00af00\">0</span>][<span style=\"color: #00af00; text-decoration-color: #00af00\">0</span>]            │\n",
       "├───────────────────────────────┼───────────────────────────┼─────────────────┼────────────────────────────┤\n",
       "│ get_item (<span style=\"color: #0087ff; text-decoration-color: #0087ff\">GetItem</span>)            │ (<span style=\"color: #00d7ff; text-decoration-color: #00d7ff\">None</span>, <span style=\"color: #00af00; text-decoration-color: #00af00\">768</span>)               │               <span style=\"color: #00af00; text-decoration-color: #00af00\">0</span> │ distil_bert_backbone[<span style=\"color: #00af00; text-decoration-color: #00af00\">0</span>][<span style=\"color: #00af00; text-decoration-color: #00af00\">0</span>] │\n",
       "├───────────────────────────────┼───────────────────────────┼─────────────────┼────────────────────────────┤\n",
       "│ pooled_dense (<span style=\"color: #0087ff; text-decoration-color: #0087ff\">Dense</span>)          │ (<span style=\"color: #00d7ff; text-decoration-color: #00d7ff\">None</span>, <span style=\"color: #00af00; text-decoration-color: #00af00\">768</span>)               │         <span style=\"color: #00af00; text-decoration-color: #00af00\">590,592</span> │ get_item[<span style=\"color: #00af00; text-decoration-color: #00af00\">0</span>][<span style=\"color: #00af00; text-decoration-color: #00af00\">0</span>]             │\n",
       "├───────────────────────────────┼───────────────────────────┼─────────────────┼────────────────────────────┤\n",
       "│ output_dropout (<span style=\"color: #0087ff; text-decoration-color: #0087ff\">Dropout</span>)      │ (<span style=\"color: #00d7ff; text-decoration-color: #00d7ff\">None</span>, <span style=\"color: #00af00; text-decoration-color: #00af00\">768</span>)               │               <span style=\"color: #00af00; text-decoration-color: #00af00\">0</span> │ pooled_dense[<span style=\"color: #00af00; text-decoration-color: #00af00\">0</span>][<span style=\"color: #00af00; text-decoration-color: #00af00\">0</span>]         │\n",
       "├───────────────────────────────┼───────────────────────────┼─────────────────┼────────────────────────────┤\n",
       "│ logits (<span style=\"color: #0087ff; text-decoration-color: #0087ff\">Dense</span>)                │ (<span style=\"color: #00d7ff; text-decoration-color: #00d7ff\">None</span>, <span style=\"color: #00af00; text-decoration-color: #00af00\">2</span>)                 │           <span style=\"color: #00af00; text-decoration-color: #00af00\">1,538</span> │ output_dropout[<span style=\"color: #00af00; text-decoration-color: #00af00\">0</span>][<span style=\"color: #00af00; text-decoration-color: #00af00\">0</span>]       │\n",
       "└───────────────────────────────┴───────────────────────────┴─────────────────┴────────────────────────────┘\n",
       "</pre>\n"
      ],
      "text/plain": [
       "┏━━━━━━━━━━━━━━━━━━━━━━━━━━━━━━━┳━━━━━━━━━━━━━━━━━━━━━━━━━━━┳━━━━━━━━━━━━━━━━━┳━━━━━━━━━━━━━━━━━━━━━━━━━━━━┓\n",
       "┃\u001b[1m \u001b[0m\u001b[1mLayer (type)                 \u001b[0m\u001b[1m \u001b[0m┃\u001b[1m \u001b[0m\u001b[1mOutput Shape             \u001b[0m\u001b[1m \u001b[0m┃\u001b[1m \u001b[0m\u001b[1m        Param #\u001b[0m\u001b[1m \u001b[0m┃\u001b[1m \u001b[0m\u001b[1mConnected to              \u001b[0m\u001b[1m \u001b[0m┃\n",
       "┡━━━━━━━━━━━━━━━━━━━━━━━━━━━━━━━╇━━━━━━━━━━━━━━━━━━━━━━━━━━━╇━━━━━━━━━━━━━━━━━╇━━━━━━━━━━━━━━━━━━━━━━━━━━━━┩\n",
       "│ padding_mask (\u001b[38;5;33mInputLayer\u001b[0m)     │ (\u001b[38;5;45mNone\u001b[0m, \u001b[38;5;45mNone\u001b[0m)              │               \u001b[38;5;34m0\u001b[0m │ -                          │\n",
       "├───────────────────────────────┼───────────────────────────┼─────────────────┼────────────────────────────┤\n",
       "│ token_ids (\u001b[38;5;33mInputLayer\u001b[0m)        │ (\u001b[38;5;45mNone\u001b[0m, \u001b[38;5;45mNone\u001b[0m)              │               \u001b[38;5;34m0\u001b[0m │ -                          │\n",
       "├───────────────────────────────┼───────────────────────────┼─────────────────┼────────────────────────────┤\n",
       "│ distil_bert_backbone          │ (\u001b[38;5;45mNone\u001b[0m, \u001b[38;5;45mNone\u001b[0m, \u001b[38;5;34m768\u001b[0m)         │      \u001b[38;5;34m66,362,880\u001b[0m │ padding_mask[\u001b[38;5;34m0\u001b[0m][\u001b[38;5;34m0\u001b[0m],        │\n",
       "│ (\u001b[38;5;33mDistilBertBackbone\u001b[0m)          │                           │                 │ token_ids[\u001b[38;5;34m0\u001b[0m][\u001b[38;5;34m0\u001b[0m]            │\n",
       "├───────────────────────────────┼───────────────────────────┼─────────────────┼────────────────────────────┤\n",
       "│ get_item (\u001b[38;5;33mGetItem\u001b[0m)            │ (\u001b[38;5;45mNone\u001b[0m, \u001b[38;5;34m768\u001b[0m)               │               \u001b[38;5;34m0\u001b[0m │ distil_bert_backbone[\u001b[38;5;34m0\u001b[0m][\u001b[38;5;34m0\u001b[0m] │\n",
       "├───────────────────────────────┼───────────────────────────┼─────────────────┼────────────────────────────┤\n",
       "│ pooled_dense (\u001b[38;5;33mDense\u001b[0m)          │ (\u001b[38;5;45mNone\u001b[0m, \u001b[38;5;34m768\u001b[0m)               │         \u001b[38;5;34m590,592\u001b[0m │ get_item[\u001b[38;5;34m0\u001b[0m][\u001b[38;5;34m0\u001b[0m]             │\n",
       "├───────────────────────────────┼───────────────────────────┼─────────────────┼────────────────────────────┤\n",
       "│ output_dropout (\u001b[38;5;33mDropout\u001b[0m)      │ (\u001b[38;5;45mNone\u001b[0m, \u001b[38;5;34m768\u001b[0m)               │               \u001b[38;5;34m0\u001b[0m │ pooled_dense[\u001b[38;5;34m0\u001b[0m][\u001b[38;5;34m0\u001b[0m]         │\n",
       "├───────────────────────────────┼───────────────────────────┼─────────────────┼────────────────────────────┤\n",
       "│ logits (\u001b[38;5;33mDense\u001b[0m)                │ (\u001b[38;5;45mNone\u001b[0m, \u001b[38;5;34m2\u001b[0m)                 │           \u001b[38;5;34m1,538\u001b[0m │ output_dropout[\u001b[38;5;34m0\u001b[0m][\u001b[38;5;34m0\u001b[0m]       │\n",
       "└───────────────────────────────┴───────────────────────────┴─────────────────┴────────────────────────────┘\n"
      ]
     },
     "metadata": {},
     "output_type": "display_data"
    },
    {
     "data": {
      "text/html": [
       "<pre style=\"white-space:pre;overflow-x:auto;line-height:normal;font-family:Menlo,'DejaVu Sans Mono',consolas,'Courier New',monospace\"><span style=\"font-weight: bold\"> Total params: </span><span style=\"color: #00af00; text-decoration-color: #00af00\">66,955,010</span> (255.41 MB)\n",
       "</pre>\n"
      ],
      "text/plain": [
       "\u001b[1m Total params: \u001b[0m\u001b[38;5;34m66,955,010\u001b[0m (255.41 MB)\n"
      ]
     },
     "metadata": {},
     "output_type": "display_data"
    },
    {
     "data": {
      "text/html": [
       "<pre style=\"white-space:pre;overflow-x:auto;line-height:normal;font-family:Menlo,'DejaVu Sans Mono',consolas,'Courier New',monospace\"><span style=\"font-weight: bold\"> Trainable params: </span><span style=\"color: #00af00; text-decoration-color: #00af00\">66,955,010</span> (255.41 MB)\n",
       "</pre>\n"
      ],
      "text/plain": [
       "\u001b[1m Trainable params: \u001b[0m\u001b[38;5;34m66,955,010\u001b[0m (255.41 MB)\n"
      ]
     },
     "metadata": {},
     "output_type": "display_data"
    },
    {
     "data": {
      "text/html": [
       "<pre style=\"white-space:pre;overflow-x:auto;line-height:normal;font-family:Menlo,'DejaVu Sans Mono',consolas,'Courier New',monospace\"><span style=\"font-weight: bold\"> Non-trainable params: </span><span style=\"color: #00af00; text-decoration-color: #00af00\">0</span> (0.00 B)\n",
       "</pre>\n"
      ],
      "text/plain": [
       "\u001b[1m Non-trainable params: \u001b[0m\u001b[38;5;34m0\u001b[0m (0.00 B)\n"
      ]
     },
     "metadata": {},
     "output_type": "display_data"
    }
   ],
   "source": [
    "import keras_nlp\n",
    "from transformers import BertTokenizer, TFBertModel\n",
    "import keras\n",
    "\n",
    "with strategy.scope():\n",
    "    preset= \"distil_bert_base_en_uncased\"\n",
    "    \n",
    "    preprocessor = keras_nlp.models.DistilBertPreprocessor.from_preset(preset,\n",
    "                                                                   sequence_length=160,\n",
    "                                                                   name=\"preprocessor_4_tweets\"\n",
    "                                                                  )\n",
    "\n",
    "    classifier = keras_nlp.models.DistilBertClassifier.from_preset(preset,\n",
    "                                                               preprocessor = preprocessor, \n",
    "                                                               num_classes=2)\n",
    "\n",
    "    classifier.compile(\n",
    "    loss=keras.losses.SparseCategoricalCrossentropy(from_logits=True),\n",
    "    optimizer=keras.optimizers.Adam(1e-5),\n",
    "    metrics=['accuracy']\n",
    "    )\n",
    "\n",
    "    \n",
    "    \n",
    "classifier.summary()"
   ]
  },
  {
   "cell_type": "code",
   "execution_count": 10,
   "id": "ee30de8b",
   "metadata": {
    "execution": {
     "iopub.execute_input": "2024-09-10T21:17:35.385320Z",
     "iopub.status.busy": "2024-09-10T21:17:35.385005Z",
     "iopub.status.idle": "2024-09-10T21:22:38.741644Z",
     "shell.execute_reply": "2024-09-10T21:22:38.740725Z"
    },
    "papermill": {
     "duration": 303.401617,
     "end_time": "2024-09-10T21:22:38.778611",
     "exception": false,
     "start_time": "2024-09-10T21:17:35.376994",
     "status": "completed"
    },
    "tags": []
   },
   "outputs": [
    {
     "name": "stdout",
     "output_type": "stream",
     "text": [
      "Epoch 1/3\n",
      "\u001b[1m191/191\u001b[0m \u001b[32m━━━━━━━━━━━━━━━━━━━━\u001b[0m\u001b[37m\u001b[0m \u001b[1m140s\u001b[0m 422ms/step - accuracy: 0.6799 - loss: 0.6044 - val_accuracy: 0.8255 - val_loss: 0.4164\n",
      "Epoch 2/3\n",
      "\u001b[1m191/191\u001b[0m \u001b[32m━━━━━━━━━━━━━━━━━━━━\u001b[0m\u001b[37m\u001b[0m \u001b[1m81s\u001b[0m 422ms/step - accuracy: 0.8262 - loss: 0.4022 - val_accuracy: 0.8281 - val_loss: 0.4013\n",
      "Epoch 3/3\n",
      "\u001b[1m191/191\u001b[0m \u001b[32m━━━━━━━━━━━━━━━━━━━━\u001b[0m\u001b[37m\u001b[0m \u001b[1m81s\u001b[0m 422ms/step - accuracy: 0.8717 - loss: 0.3290 - val_accuracy: 0.8150 - val_loss: 0.4217\n"
     ]
    },
    {
     "data": {
      "text/plain": [
       "<keras.src.callbacks.history.History at 0x7ea2387dfc70>"
      ]
     },
     "execution_count": 10,
     "metadata": {},
     "output_type": "execute_result"
    }
   ],
   "source": [
    "\n",
    "classifier.fit(x=X_train, y=y_train,validation_data=(X_val, y_val),epochs=3)\n",
    "# Re-compile (e.g., with a new learning rate).\n"
   ]
  },
  {
   "cell_type": "code",
   "execution_count": 11,
   "id": "1ae32716",
   "metadata": {
    "execution": {
     "iopub.execute_input": "2024-09-10T21:22:38.901827Z",
     "iopub.status.busy": "2024-09-10T21:22:38.900837Z",
     "iopub.status.idle": "2024-09-10T21:22:38.943109Z",
     "shell.execute_reply": "2024-09-10T21:22:38.942247Z"
    },
    "papermill": {
     "duration": 0.104442,
     "end_time": "2024-09-10T21:22:38.945157",
     "exception": false,
     "start_time": "2024-09-10T21:22:38.840715",
     "status": "completed"
    },
    "tags": []
   },
   "outputs": [],
   "source": [
    "import re\n",
    "x_test=x_test.apply(lambda x: re.sub(r'http\\S+|www\\S+', '', x))\n",
    "\n",
    "# Remove Hashtags\n",
    "x_test =x_test.apply(lambda x: re.sub(r'#\\w+', '', x))\n",
    "\n",
    "# Remove Mentions\n",
    "x_test =x_test.apply(lambda x: re.sub(r'@\\w+', '', x))\n",
    "\n",
    "# Remove extra spaces after cleaning\n",
    "x_test =x_test.apply(lambda x: ' '.join(x.split()))"
   ]
  },
  {
   "cell_type": "code",
   "execution_count": null,
   "id": "f5f3f2ae",
   "metadata": {
    "papermill": {
     "duration": 0.053949,
     "end_time": "2024-09-10T21:22:39.052834",
     "exception": false,
     "start_time": "2024-09-10T21:22:38.998885",
     "status": "completed"
    },
    "tags": []
   },
   "outputs": [],
   "source": []
  },
  {
   "cell_type": "code",
   "execution_count": 12,
   "id": "1f20d414",
   "metadata": {
    "execution": {
     "iopub.execute_input": "2024-09-10T21:22:39.164798Z",
     "iopub.status.busy": "2024-09-10T21:22:39.163579Z",
     "iopub.status.idle": "2024-09-10T21:23:05.507817Z",
     "shell.execute_reply": "2024-09-10T21:23:05.506950Z"
    },
    "papermill": {
     "duration": 26.405625,
     "end_time": "2024-09-10T21:23:05.510325",
     "exception": false,
     "start_time": "2024-09-10T21:22:39.104700",
     "status": "completed"
    },
    "tags": []
   },
   "outputs": [
    {
     "name": "stdout",
     "output_type": "stream",
     "text": [
      "\u001b[1m1632/1632\u001b[0m \u001b[32m━━━━━━━━━━━━━━━━━━━━\u001b[0m\u001b[37m\u001b[0m \u001b[1m25s\u001b[0m 14ms/step\n"
     ]
    }
   ],
   "source": [
    "prediction=classifier.predict(x=test[\"text\"], batch_size=2)"
   ]
  },
  {
   "cell_type": "code",
   "execution_count": 13,
   "id": "4c86c58f",
   "metadata": {
    "execution": {
     "iopub.execute_input": "2024-09-10T21:23:05.676671Z",
     "iopub.status.busy": "2024-09-10T21:23:05.676303Z",
     "iopub.status.idle": "2024-09-10T21:23:05.682719Z",
     "shell.execute_reply": "2024-09-10T21:23:05.681573Z"
    },
    "papermill": {
     "duration": 0.091002,
     "end_time": "2024-09-10T21:23:05.684620",
     "exception": false,
     "start_time": "2024-09-10T21:23:05.593618",
     "status": "completed"
    },
    "tags": []
   },
   "outputs": [
    {
     "data": {
      "text/plain": [
       "(3263, 2)"
      ]
     },
     "execution_count": 13,
     "metadata": {},
     "output_type": "execute_result"
    }
   ],
   "source": [
    "prediction.shape"
   ]
  },
  {
   "cell_type": "code",
   "execution_count": 14,
   "id": "35f9f044",
   "metadata": {
    "execution": {
     "iopub.execute_input": "2024-09-10T21:23:05.850726Z",
     "iopub.status.busy": "2024-09-10T21:23:05.850396Z",
     "iopub.status.idle": "2024-09-10T21:23:05.863655Z",
     "shell.execute_reply": "2024-09-10T21:23:05.862685Z"
    },
    "papermill": {
     "duration": 0.099475,
     "end_time": "2024-09-10T21:23:05.865624",
     "exception": false,
     "start_time": "2024-09-10T21:23:05.766149",
     "status": "completed"
    },
    "tags": []
   },
   "outputs": [],
   "source": [
    "import numpy as np\n",
    "sample_submission = pd.read_csv(\"/kaggle/input/nlp-getting-started/sample_submission.csv\")\n",
    "sample_submission[\"target\"] = np.argmax(prediction, axis=1)"
   ]
  },
  {
   "cell_type": "code",
   "execution_count": 15,
   "id": "96213d75",
   "metadata": {
    "execution": {
     "iopub.execute_input": "2024-09-10T21:23:06.047994Z",
     "iopub.status.busy": "2024-09-10T21:23:06.047645Z",
     "iopub.status.idle": "2024-09-10T21:23:06.061580Z",
     "shell.execute_reply": "2024-09-10T21:23:06.060618Z"
    },
    "papermill": {
     "duration": 0.112317,
     "end_time": "2024-09-10T21:23:06.063481",
     "exception": false,
     "start_time": "2024-09-10T21:23:05.951164",
     "status": "completed"
    },
    "tags": []
   },
   "outputs": [
    {
     "data": {
      "text/html": [
       "<div>\n",
       "<style scoped>\n",
       "    .dataframe tbody tr th:only-of-type {\n",
       "        vertical-align: middle;\n",
       "    }\n",
       "\n",
       "    .dataframe tbody tr th {\n",
       "        vertical-align: top;\n",
       "    }\n",
       "\n",
       "    .dataframe thead th {\n",
       "        text-align: right;\n",
       "    }\n",
       "</style>\n",
       "<table border=\"1\" class=\"dataframe\">\n",
       "  <thead>\n",
       "    <tr style=\"text-align: right;\">\n",
       "      <th></th>\n",
       "      <th>id</th>\n",
       "      <th>target</th>\n",
       "    </tr>\n",
       "  </thead>\n",
       "  <tbody>\n",
       "    <tr>\n",
       "      <th>0</th>\n",
       "      <td>0</td>\n",
       "      <td>1</td>\n",
       "    </tr>\n",
       "    <tr>\n",
       "      <th>1</th>\n",
       "      <td>2</td>\n",
       "      <td>1</td>\n",
       "    </tr>\n",
       "    <tr>\n",
       "      <th>2</th>\n",
       "      <td>3</td>\n",
       "      <td>1</td>\n",
       "    </tr>\n",
       "    <tr>\n",
       "      <th>3</th>\n",
       "      <td>9</td>\n",
       "      <td>1</td>\n",
       "    </tr>\n",
       "    <tr>\n",
       "      <th>4</th>\n",
       "      <td>11</td>\n",
       "      <td>1</td>\n",
       "    </tr>\n",
       "    <tr>\n",
       "      <th>...</th>\n",
       "      <td>...</td>\n",
       "      <td>...</td>\n",
       "    </tr>\n",
       "    <tr>\n",
       "      <th>3258</th>\n",
       "      <td>10861</td>\n",
       "      <td>1</td>\n",
       "    </tr>\n",
       "    <tr>\n",
       "      <th>3259</th>\n",
       "      <td>10865</td>\n",
       "      <td>1</td>\n",
       "    </tr>\n",
       "    <tr>\n",
       "      <th>3260</th>\n",
       "      <td>10868</td>\n",
       "      <td>1</td>\n",
       "    </tr>\n",
       "    <tr>\n",
       "      <th>3261</th>\n",
       "      <td>10874</td>\n",
       "      <td>1</td>\n",
       "    </tr>\n",
       "    <tr>\n",
       "      <th>3262</th>\n",
       "      <td>10875</td>\n",
       "      <td>1</td>\n",
       "    </tr>\n",
       "  </tbody>\n",
       "</table>\n",
       "<p>3263 rows × 2 columns</p>\n",
       "</div>"
      ],
      "text/plain": [
       "         id  target\n",
       "0         0       1\n",
       "1         2       1\n",
       "2         3       1\n",
       "3         9       1\n",
       "4        11       1\n",
       "...     ...     ...\n",
       "3258  10861       1\n",
       "3259  10865       1\n",
       "3260  10868       1\n",
       "3261  10874       1\n",
       "3262  10875       1\n",
       "\n",
       "[3263 rows x 2 columns]"
      ]
     },
     "execution_count": 15,
     "metadata": {},
     "output_type": "execute_result"
    }
   ],
   "source": [
    "sample_submission"
   ]
  },
  {
   "cell_type": "code",
   "execution_count": 16,
   "id": "cc89d3f0",
   "metadata": {
    "execution": {
     "iopub.execute_input": "2024-09-10T21:23:06.269216Z",
     "iopub.status.busy": "2024-09-10T21:23:06.268565Z",
     "iopub.status.idle": "2024-09-10T21:23:06.280103Z",
     "shell.execute_reply": "2024-09-10T21:23:06.279383Z"
    },
    "papermill": {
     "duration": 0.097113,
     "end_time": "2024-09-10T21:23:06.281989",
     "exception": false,
     "start_time": "2024-09-10T21:23:06.184876",
     "status": "completed"
    },
    "tags": []
   },
   "outputs": [],
   "source": [
    "\n",
    "sample_submission.to_csv(\"submission.csv\", index=False)"
   ]
  },
  {
   "cell_type": "code",
   "execution_count": null,
   "id": "793abf20",
   "metadata": {
    "papermill": {
     "duration": 0.083922,
     "end_time": "2024-09-10T21:23:06.447695",
     "exception": false,
     "start_time": "2024-09-10T21:23:06.363773",
     "status": "completed"
    },
    "tags": []
   },
   "outputs": [],
   "source": []
  }
 ],
 "metadata": {
  "kaggle": {
   "accelerator": "nvidiaTeslaT4",
   "dataSources": [
    {
     "databundleVersionId": 869809,
     "sourceId": 17777,
     "sourceType": "competition"
    },
    {
     "databundleVersionId": 7429185,
     "modelInstanceId": 4679,
     "sourceId": 6058,
     "sourceType": "modelInstanceVersion"
    },
    {
     "databundleVersionId": 7429181,
     "modelInstanceId": 4678,
     "sourceId": 6057,
     "sourceType": "modelInstanceVersion"
    },
    {
     "databundleVersionId": 7429247,
     "modelInstanceId": 4689,
     "sourceId": 6068,
     "sourceType": "modelInstanceVersion"
    },
    {
     "databundleVersionId": 7429527,
     "modelInstanceId": 4703,
     "sourceId": 6169,
     "sourceType": "modelInstanceVersion"
    }
   ],
   "dockerImageVersionId": 30762,
   "isGpuEnabled": true,
   "isInternetEnabled": true,
   "language": "python",
   "sourceType": "notebook"
  },
  "kernelspec": {
   "display_name": "Python 3",
   "language": "python",
   "name": "python3"
  },
  "language_info": {
   "codemirror_mode": {
    "name": "ipython",
    "version": 3
   },
   "file_extension": ".py",
   "mimetype": "text/x-python",
   "name": "python",
   "nbconvert_exporter": "python",
   "pygments_lexer": "ipython3",
   "version": "3.10.14"
  },
  "papermill": {
   "default_parameters": {},
   "duration": 370.87232,
   "end_time": "2024-09-10T21:23:09.999880",
   "environment_variables": {},
   "exception": null,
   "input_path": "__notebook__.ipynb",
   "output_path": "__notebook__.ipynb",
   "parameters": {},
   "start_time": "2024-09-10T21:16:59.127560",
   "version": "2.6.0"
  }
 },
 "nbformat": 4,
 "nbformat_minor": 5
}
