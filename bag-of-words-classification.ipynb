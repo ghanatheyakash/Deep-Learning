{
 "cells": [
  {
   "cell_type": "code",
   "execution_count": 1,
   "id": "bfcdd395",
   "metadata": {
    "execution": {
     "iopub.execute_input": "2024-09-10T18:09:55.429807Z",
     "iopub.status.busy": "2024-09-10T18:09:55.429260Z",
     "iopub.status.idle": "2024-09-10T18:09:55.837552Z",
     "shell.execute_reply": "2024-09-10T18:09:55.835866Z"
    },
    "papermill": {
     "duration": 0.4183,
     "end_time": "2024-09-10T18:09:55.840414",
     "exception": false,
     "start_time": "2024-09-10T18:09:55.422114",
     "status": "completed"
    },
    "tags": []
   },
   "outputs": [],
   "source": [
    "import pandas as pd"
   ]
  },
  {
   "cell_type": "code",
   "execution_count": 2,
   "id": "51762ece",
   "metadata": {
    "execution": {
     "iopub.execute_input": "2024-09-10T18:09:55.852920Z",
     "iopub.status.busy": "2024-09-10T18:09:55.852380Z",
     "iopub.status.idle": "2024-09-10T18:09:55.903631Z",
     "shell.execute_reply": "2024-09-10T18:09:55.902428Z"
    },
    "papermill": {
     "duration": 0.060862,
     "end_time": "2024-09-10T18:09:55.906281",
     "exception": false,
     "start_time": "2024-09-10T18:09:55.845419",
     "status": "completed"
    },
    "tags": []
   },
   "outputs": [],
   "source": [
    "ds=pd.read_csv(\"/kaggle/input/nlp-getting-started/train.csv\")"
   ]
  },
  {
   "cell_type": "code",
   "execution_count": 3,
   "id": "87da593a",
   "metadata": {
    "execution": {
     "iopub.execute_input": "2024-09-10T18:09:55.917440Z",
     "iopub.status.busy": "2024-09-10T18:09:55.916979Z",
     "iopub.status.idle": "2024-09-10T18:09:55.946107Z",
     "shell.execute_reply": "2024-09-10T18:09:55.944965Z"
    },
    "papermill": {
     "duration": 0.037681,
     "end_time": "2024-09-10T18:09:55.948740",
     "exception": false,
     "start_time": "2024-09-10T18:09:55.911059",
     "status": "completed"
    },
    "tags": []
   },
   "outputs": [
    {
     "data": {
      "text/html": [
       "<div>\n",
       "<style scoped>\n",
       "    .dataframe tbody tr th:only-of-type {\n",
       "        vertical-align: middle;\n",
       "    }\n",
       "\n",
       "    .dataframe tbody tr th {\n",
       "        vertical-align: top;\n",
       "    }\n",
       "\n",
       "    .dataframe thead th {\n",
       "        text-align: right;\n",
       "    }\n",
       "</style>\n",
       "<table border=\"1\" class=\"dataframe\">\n",
       "  <thead>\n",
       "    <tr style=\"text-align: right;\">\n",
       "      <th></th>\n",
       "      <th>id</th>\n",
       "      <th>keyword</th>\n",
       "      <th>location</th>\n",
       "      <th>text</th>\n",
       "      <th>target</th>\n",
       "    </tr>\n",
       "  </thead>\n",
       "  <tbody>\n",
       "    <tr>\n",
       "      <th>0</th>\n",
       "      <td>1</td>\n",
       "      <td>NaN</td>\n",
       "      <td>NaN</td>\n",
       "      <td>Our Deeds are the Reason of this #earthquake M...</td>\n",
       "      <td>1</td>\n",
       "    </tr>\n",
       "    <tr>\n",
       "      <th>1</th>\n",
       "      <td>4</td>\n",
       "      <td>NaN</td>\n",
       "      <td>NaN</td>\n",
       "      <td>Forest fire near La Ronge Sask. Canada</td>\n",
       "      <td>1</td>\n",
       "    </tr>\n",
       "    <tr>\n",
       "      <th>2</th>\n",
       "      <td>5</td>\n",
       "      <td>NaN</td>\n",
       "      <td>NaN</td>\n",
       "      <td>All residents asked to 'shelter in place' are ...</td>\n",
       "      <td>1</td>\n",
       "    </tr>\n",
       "    <tr>\n",
       "      <th>3</th>\n",
       "      <td>6</td>\n",
       "      <td>NaN</td>\n",
       "      <td>NaN</td>\n",
       "      <td>13,000 people receive #wildfires evacuation or...</td>\n",
       "      <td>1</td>\n",
       "    </tr>\n",
       "    <tr>\n",
       "      <th>4</th>\n",
       "      <td>7</td>\n",
       "      <td>NaN</td>\n",
       "      <td>NaN</td>\n",
       "      <td>Just got sent this photo from Ruby #Alaska as ...</td>\n",
       "      <td>1</td>\n",
       "    </tr>\n",
       "    <tr>\n",
       "      <th>...</th>\n",
       "      <td>...</td>\n",
       "      <td>...</td>\n",
       "      <td>...</td>\n",
       "      <td>...</td>\n",
       "      <td>...</td>\n",
       "    </tr>\n",
       "    <tr>\n",
       "      <th>7608</th>\n",
       "      <td>10869</td>\n",
       "      <td>NaN</td>\n",
       "      <td>NaN</td>\n",
       "      <td>Two giant cranes holding a bridge collapse int...</td>\n",
       "      <td>1</td>\n",
       "    </tr>\n",
       "    <tr>\n",
       "      <th>7609</th>\n",
       "      <td>10870</td>\n",
       "      <td>NaN</td>\n",
       "      <td>NaN</td>\n",
       "      <td>@aria_ahrary @TheTawniest The out of control w...</td>\n",
       "      <td>1</td>\n",
       "    </tr>\n",
       "    <tr>\n",
       "      <th>7610</th>\n",
       "      <td>10871</td>\n",
       "      <td>NaN</td>\n",
       "      <td>NaN</td>\n",
       "      <td>M1.94 [01:04 UTC]?5km S of Volcano Hawaii. htt...</td>\n",
       "      <td>1</td>\n",
       "    </tr>\n",
       "    <tr>\n",
       "      <th>7611</th>\n",
       "      <td>10872</td>\n",
       "      <td>NaN</td>\n",
       "      <td>NaN</td>\n",
       "      <td>Police investigating after an e-bike collided ...</td>\n",
       "      <td>1</td>\n",
       "    </tr>\n",
       "    <tr>\n",
       "      <th>7612</th>\n",
       "      <td>10873</td>\n",
       "      <td>NaN</td>\n",
       "      <td>NaN</td>\n",
       "      <td>The Latest: More Homes Razed by Northern Calif...</td>\n",
       "      <td>1</td>\n",
       "    </tr>\n",
       "  </tbody>\n",
       "</table>\n",
       "<p>7613 rows × 5 columns</p>\n",
       "</div>"
      ],
      "text/plain": [
       "         id keyword location  \\\n",
       "0         1     NaN      NaN   \n",
       "1         4     NaN      NaN   \n",
       "2         5     NaN      NaN   \n",
       "3         6     NaN      NaN   \n",
       "4         7     NaN      NaN   \n",
       "...     ...     ...      ...   \n",
       "7608  10869     NaN      NaN   \n",
       "7609  10870     NaN      NaN   \n",
       "7610  10871     NaN      NaN   \n",
       "7611  10872     NaN      NaN   \n",
       "7612  10873     NaN      NaN   \n",
       "\n",
       "                                                   text  target  \n",
       "0     Our Deeds are the Reason of this #earthquake M...       1  \n",
       "1                Forest fire near La Ronge Sask. Canada       1  \n",
       "2     All residents asked to 'shelter in place' are ...       1  \n",
       "3     13,000 people receive #wildfires evacuation or...       1  \n",
       "4     Just got sent this photo from Ruby #Alaska as ...       1  \n",
       "...                                                 ...     ...  \n",
       "7608  Two giant cranes holding a bridge collapse int...       1  \n",
       "7609  @aria_ahrary @TheTawniest The out of control w...       1  \n",
       "7610  M1.94 [01:04 UTC]?5km S of Volcano Hawaii. htt...       1  \n",
       "7611  Police investigating after an e-bike collided ...       1  \n",
       "7612  The Latest: More Homes Razed by Northern Calif...       1  \n",
       "\n",
       "[7613 rows x 5 columns]"
      ]
     },
     "execution_count": 3,
     "metadata": {},
     "output_type": "execute_result"
    }
   ],
   "source": [
    "ds"
   ]
  },
  {
   "cell_type": "code",
   "execution_count": 4,
   "id": "d67fab20",
   "metadata": {
    "execution": {
     "iopub.execute_input": "2024-09-10T18:09:55.960763Z",
     "iopub.status.busy": "2024-09-10T18:09:55.960324Z",
     "iopub.status.idle": "2024-09-10T18:09:55.965530Z",
     "shell.execute_reply": "2024-09-10T18:09:55.964489Z"
    },
    "papermill": {
     "duration": 0.013804,
     "end_time": "2024-09-10T18:09:55.967723",
     "exception": false,
     "start_time": "2024-09-10T18:09:55.953919",
     "status": "completed"
    },
    "tags": []
   },
   "outputs": [],
   "source": [
    "x_train=ds[\"text\"]\n",
    "y_train=ds[\"target\"]"
   ]
  },
  {
   "cell_type": "code",
   "execution_count": 5,
   "id": "458f3af5",
   "metadata": {
    "execution": {
     "iopub.execute_input": "2024-09-10T18:09:55.979355Z",
     "iopub.status.busy": "2024-09-10T18:09:55.978894Z",
     "iopub.status.idle": "2024-09-10T18:09:56.041171Z",
     "shell.execute_reply": "2024-09-10T18:09:56.039744Z"
    },
    "papermill": {
     "duration": 0.071182,
     "end_time": "2024-09-10T18:09:56.043831",
     "exception": false,
     "start_time": "2024-09-10T18:09:55.972649",
     "status": "completed"
    },
    "tags": []
   },
   "outputs": [],
   "source": [
    "import re\n",
    "x_train=x_train.apply(lambda x: re.sub(r'http\\S+|www\\S+', '', x))\n",
    "\n",
    "# Remove Hashtags\n",
    "x_train =x_train.apply(lambda x: re.sub(r'#\\w+', '', x))\n",
    "\n",
    "# Remove Mentions\n",
    "x_train =x_train.apply(lambda x: re.sub(r'@\\w+', '', x))\n",
    "\n",
    "# Remove extra spaces after cleaning\n",
    "x_train =x_train.apply(lambda x: ' '.join(x.split()))"
   ]
  },
  {
   "cell_type": "code",
   "execution_count": 6,
   "id": "f39fd103",
   "metadata": {
    "execution": {
     "iopub.execute_input": "2024-09-10T18:09:56.055894Z",
     "iopub.status.busy": "2024-09-10T18:09:56.055457Z",
     "iopub.status.idle": "2024-09-10T18:09:57.703407Z",
     "shell.execute_reply": "2024-09-10T18:09:57.702130Z"
    },
    "papermill": {
     "duration": 1.656805,
     "end_time": "2024-09-10T18:09:57.705839",
     "exception": false,
     "start_time": "2024-09-10T18:09:56.049034",
     "status": "completed"
    },
    "tags": []
   },
   "outputs": [
    {
     "data": {
      "text/plain": [
       "<Compressed Sparse Row sparse matrix of dtype 'int64'\n",
       "\twith 92935 stored elements and shape (7613, 13604)>"
      ]
     },
     "execution_count": 6,
     "metadata": {},
     "output_type": "execute_result"
    }
   ],
   "source": [
    "from sklearn.feature_extraction.text import CountVectorizer\n",
    "v = CountVectorizer()\n",
    "X_train_cv = v.fit_transform(x_train.astype('U').values)\n",
    "X_train_cv"
   ]
  },
  {
   "cell_type": "code",
   "execution_count": 7,
   "id": "a4aeb5b7",
   "metadata": {
    "execution": {
     "iopub.execute_input": "2024-09-10T18:09:57.718447Z",
     "iopub.status.busy": "2024-09-10T18:09:57.717894Z",
     "iopub.status.idle": "2024-09-10T18:09:57.725021Z",
     "shell.execute_reply": "2024-09-10T18:09:57.723956Z"
    },
    "papermill": {
     "duration": 0.016221,
     "end_time": "2024-09-10T18:09:57.727155",
     "exception": false,
     "start_time": "2024-09-10T18:09:57.710934",
     "status": "completed"
    },
    "tags": []
   },
   "outputs": [
    {
     "data": {
      "text/plain": [
       "(7613, 13604)"
      ]
     },
     "execution_count": 7,
     "metadata": {},
     "output_type": "execute_result"
    }
   ],
   "source": [
    "X_train_cv.shape"
   ]
  },
  {
   "cell_type": "code",
   "execution_count": 8,
   "id": "cab0cc7b",
   "metadata": {
    "execution": {
     "iopub.execute_input": "2024-09-10T18:09:57.739257Z",
     "iopub.status.busy": "2024-09-10T18:09:57.738847Z",
     "iopub.status.idle": "2024-09-10T18:09:57.815263Z",
     "shell.execute_reply": "2024-09-10T18:09:57.814027Z"
    },
    "papermill": {
     "duration": 0.085639,
     "end_time": "2024-09-10T18:09:57.817973",
     "exception": false,
     "start_time": "2024-09-10T18:09:57.732334",
     "status": "completed"
    },
    "tags": []
   },
   "outputs": [],
   "source": [
    "test=pd.read_csv(\"/kaggle/input/nlp-getting-started/test.csv\")\n",
    "X_test=test[\"text\"]\n",
    "X_test_cv = v.transform(X_test)\n"
   ]
  },
  {
   "cell_type": "code",
   "execution_count": 9,
   "id": "a38ebca2",
   "metadata": {
    "execution": {
     "iopub.execute_input": "2024-09-10T18:09:57.830199Z",
     "iopub.status.busy": "2024-09-10T18:09:57.829786Z",
     "iopub.status.idle": "2024-09-10T18:10:12.182883Z",
     "shell.execute_reply": "2024-09-10T18:10:12.181613Z"
    },
    "papermill": {
     "duration": 14.36237,
     "end_time": "2024-09-10T18:10:12.185600",
     "exception": false,
     "start_time": "2024-09-10T18:09:57.823230",
     "status": "completed"
    },
    "tags": []
   },
   "outputs": [
    {
     "name": "stderr",
     "output_type": "stream",
     "text": [
      "/opt/conda/lib/python3.10/site-packages/keras/src/layers/core/dense.py:87: UserWarning: Do not pass an `input_shape`/`input_dim` argument to a layer. When using Sequential models, prefer using an `Input(shape)` object as the first layer in the model instead.\n",
      "  super().__init__(activity_regularizer=activity_regularizer, **kwargs)\n"
     ]
    }
   ],
   "source": [
    "\n",
    "from tensorflow import keras \n",
    "import tensorflow as tf\n",
    "tf.config.optimizer.set_jit(False)  # Disable XLA JIT compilation\n",
    "\n",
    "nn_model=keras.Sequential([\n",
    "    keras.layers.Dense(16,input_shape=(13604,),activation=\"relu\"),\n",
    "    keras.layers.Dense(32,activation=\"relu\"),\n",
    "    keras.layers.Dense(16,activation=\"relu\"),\n",
    "    keras.layers.Dense(32,activation=\"relu\"),\n",
    "    keras.layers.Dense(1,activation=\"sigmoid\")\n",
    "])\n"
   ]
  },
  {
   "cell_type": "code",
   "execution_count": 10,
   "id": "d2b6ca3f",
   "metadata": {
    "execution": {
     "iopub.execute_input": "2024-09-10T18:10:12.198547Z",
     "iopub.status.busy": "2024-09-10T18:10:12.197600Z",
     "iopub.status.idle": "2024-09-10T18:10:12.214637Z",
     "shell.execute_reply": "2024-09-10T18:10:12.213262Z"
    },
    "papermill": {
     "duration": 0.026533,
     "end_time": "2024-09-10T18:10:12.217472",
     "exception": false,
     "start_time": "2024-09-10T18:10:12.190939",
     "status": "completed"
    },
    "tags": []
   },
   "outputs": [],
   "source": [
    "nn_model.compile(\n",
    "optimizer=\"adam\",\n",
    "loss=\"binary_crossentropy\",\n",
    "metrics=[\"accuracy\"])"
   ]
  },
  {
   "cell_type": "code",
   "execution_count": 11,
   "id": "f7dd6120",
   "metadata": {
    "execution": {
     "iopub.execute_input": "2024-09-10T18:10:12.229867Z",
     "iopub.status.busy": "2024-09-10T18:10:12.229428Z",
     "iopub.status.idle": "2024-09-10T18:10:17.065107Z",
     "shell.execute_reply": "2024-09-10T18:10:17.063947Z"
    },
    "papermill": {
     "duration": 4.844691,
     "end_time": "2024-09-10T18:10:17.067543",
     "exception": false,
     "start_time": "2024-09-10T18:10:12.222852",
     "status": "completed"
    },
    "tags": []
   },
   "outputs": [
    {
     "name": "stdout",
     "output_type": "stream",
     "text": [
      "Epoch 1/10\n",
      "\u001b[1m60/60\u001b[0m \u001b[32m━━━━━━━━━━━━━━━━━━━━\u001b[0m\u001b[37m\u001b[0m \u001b[1m2s\u001b[0m 3ms/step - accuracy: 0.6397 - loss: 0.6732\n",
      "Epoch 2/10\n",
      "\u001b[1m60/60\u001b[0m \u001b[32m━━━━━━━━━━━━━━━━━━━━\u001b[0m\u001b[37m\u001b[0m \u001b[1m0s\u001b[0m 4ms/step - accuracy: 0.8615 - loss: 0.3895\n",
      "Epoch 3/10\n",
      "\u001b[1m60/60\u001b[0m \u001b[32m━━━━━━━━━━━━━━━━━━━━\u001b[0m\u001b[37m\u001b[0m \u001b[1m0s\u001b[0m 4ms/step - accuracy: 0.9272 - loss: 0.2183\n",
      "Epoch 4/10\n",
      "\u001b[1m60/60\u001b[0m \u001b[32m━━━━━━━━━━━━━━━━━━━━\u001b[0m\u001b[37m\u001b[0m \u001b[1m0s\u001b[0m 3ms/step - accuracy: 0.9544 - loss: 0.1479\n",
      "Epoch 5/10\n",
      "\u001b[1m60/60\u001b[0m \u001b[32m━━━━━━━━━━━━━━━━━━━━\u001b[0m\u001b[37m\u001b[0m \u001b[1m0s\u001b[0m 3ms/step - accuracy: 0.9707 - loss: 0.0966\n",
      "Epoch 6/10\n",
      "\u001b[1m60/60\u001b[0m \u001b[32m━━━━━━━━━━━━━━━━━━━━\u001b[0m\u001b[37m\u001b[0m \u001b[1m0s\u001b[0m 4ms/step - accuracy: 0.9750 - loss: 0.0713\n",
      "Epoch 7/10\n",
      "\u001b[1m60/60\u001b[0m \u001b[32m━━━━━━━━━━━━━━━━━━━━\u001b[0m\u001b[37m\u001b[0m \u001b[1m0s\u001b[0m 3ms/step - accuracy: 0.9783 - loss: 0.0611\n",
      "Epoch 8/10\n",
      "\u001b[1m60/60\u001b[0m \u001b[32m━━━━━━━━━━━━━━━━━━━━\u001b[0m\u001b[37m\u001b[0m \u001b[1m0s\u001b[0m 4ms/step - accuracy: 0.9787 - loss: 0.0507\n",
      "Epoch 9/10\n",
      "\u001b[1m60/60\u001b[0m \u001b[32m━━━━━━━━━━━━━━━━━━━━\u001b[0m\u001b[37m\u001b[0m \u001b[1m0s\u001b[0m 3ms/step - accuracy: 0.9799 - loss: 0.0510\n",
      "Epoch 10/10\n",
      "\u001b[1m60/60\u001b[0m \u001b[32m━━━━━━━━━━━━━━━━━━━━\u001b[0m\u001b[37m\u001b[0m \u001b[1m0s\u001b[0m 4ms/step - accuracy: 0.9826 - loss: 0.0445\n"
     ]
    },
    {
     "data": {
      "text/plain": [
       "<keras.src.callbacks.history.History at 0x78c3e62f5660>"
      ]
     },
     "execution_count": 11,
     "metadata": {},
     "output_type": "execute_result"
    }
   ],
   "source": [
    "nn_model.fit(X_train_cv, y_train,epochs=10,batch_size=128)"
   ]
  },
  {
   "cell_type": "code",
   "execution_count": 12,
   "id": "c2a6c773",
   "metadata": {
    "execution": {
     "iopub.execute_input": "2024-09-10T18:10:17.089089Z",
     "iopub.status.busy": "2024-09-10T18:10:17.088627Z",
     "iopub.status.idle": "2024-09-10T18:10:17.693673Z",
     "shell.execute_reply": "2024-09-10T18:10:17.692523Z"
    },
    "papermill": {
     "duration": 0.618692,
     "end_time": "2024-09-10T18:10:17.696266",
     "exception": false,
     "start_time": "2024-09-10T18:10:17.077574",
     "status": "completed"
    },
    "tags": []
   },
   "outputs": [
    {
     "name": "stdout",
     "output_type": "stream",
     "text": [
      "\u001b[1m102/102\u001b[0m \u001b[32m━━━━━━━━━━━━━━━━━━━━\u001b[0m\u001b[37m\u001b[0m \u001b[1m0s\u001b[0m 3ms/step\n"
     ]
    }
   ],
   "source": [
    "pred=nn_model.predict(X_test_cv)\n"
   ]
  },
  {
   "cell_type": "code",
   "execution_count": 13,
   "id": "a7c98b2f",
   "metadata": {
    "execution": {
     "iopub.execute_input": "2024-09-10T18:10:17.718870Z",
     "iopub.status.busy": "2024-09-10T18:10:17.718466Z",
     "iopub.status.idle": "2024-09-10T18:10:17.723942Z",
     "shell.execute_reply": "2024-09-10T18:10:17.722733Z"
    },
    "papermill": {
     "duration": 0.019521,
     "end_time": "2024-09-10T18:10:17.726181",
     "exception": false,
     "start_time": "2024-09-10T18:10:17.706660",
     "status": "completed"
    },
    "tags": []
   },
   "outputs": [],
   "source": [
    "outputs=(pred >= 0.5).astype(int).reshape(-1)\n"
   ]
  },
  {
   "cell_type": "code",
   "execution_count": 14,
   "id": "0f71f04d",
   "metadata": {
    "execution": {
     "iopub.execute_input": "2024-09-10T18:10:17.748208Z",
     "iopub.status.busy": "2024-09-10T18:10:17.747774Z",
     "iopub.status.idle": "2024-09-10T18:10:17.755326Z",
     "shell.execute_reply": "2024-09-10T18:10:17.754174Z"
    },
    "papermill": {
     "duration": 0.021089,
     "end_time": "2024-09-10T18:10:17.757604",
     "exception": false,
     "start_time": "2024-09-10T18:10:17.736515",
     "status": "completed"
    },
    "tags": []
   },
   "outputs": [
    {
     "data": {
      "text/plain": [
       "array([1, 1, 1, ..., 1, 1, 1])"
      ]
     },
     "execution_count": 14,
     "metadata": {},
     "output_type": "execute_result"
    }
   ],
   "source": [
    "outputs\n"
   ]
  },
  {
   "cell_type": "code",
   "execution_count": 15,
   "id": "983696fa",
   "metadata": {
    "execution": {
     "iopub.execute_input": "2024-09-10T18:10:17.779529Z",
     "iopub.status.busy": "2024-09-10T18:10:17.779074Z",
     "iopub.status.idle": "2024-09-10T18:10:17.791511Z",
     "shell.execute_reply": "2024-09-10T18:10:17.790342Z"
    },
    "papermill": {
     "duration": 0.02622,
     "end_time": "2024-09-10T18:10:17.793926",
     "exception": false,
     "start_time": "2024-09-10T18:10:17.767706",
     "status": "completed"
    },
    "tags": []
   },
   "outputs": [],
   "source": [
    "sample_submission = pd.read_csv(\"/kaggle/input/nlp-getting-started/sample_submission.csv\")\n",
    "sample_submission[\"target\"] =outputs"
   ]
  },
  {
   "cell_type": "markdown",
   "id": "559e7c74",
   "metadata": {
    "papermill": {
     "duration": 0.010005,
     "end_time": "2024-09-10T18:10:17.814183",
     "exception": false,
     "start_time": "2024-09-10T18:10:17.804178",
     "status": "completed"
    },
    "tags": []
   },
   "source": []
  },
  {
   "cell_type": "code",
   "execution_count": 16,
   "id": "114584c5",
   "metadata": {
    "execution": {
     "iopub.execute_input": "2024-09-10T18:10:17.836684Z",
     "iopub.status.busy": "2024-09-10T18:10:17.835848Z",
     "iopub.status.idle": "2024-09-10T18:10:17.856587Z",
     "shell.execute_reply": "2024-09-10T18:10:17.855186Z"
    },
    "papermill": {
     "duration": 0.035318,
     "end_time": "2024-09-10T18:10:17.859605",
     "exception": false,
     "start_time": "2024-09-10T18:10:17.824287",
     "status": "completed"
    },
    "tags": []
   },
   "outputs": [
    {
     "data": {
      "text/html": [
       "<div>\n",
       "<style scoped>\n",
       "    .dataframe tbody tr th:only-of-type {\n",
       "        vertical-align: middle;\n",
       "    }\n",
       "\n",
       "    .dataframe tbody tr th {\n",
       "        vertical-align: top;\n",
       "    }\n",
       "\n",
       "    .dataframe thead th {\n",
       "        text-align: right;\n",
       "    }\n",
       "</style>\n",
       "<table border=\"1\" class=\"dataframe\">\n",
       "  <thead>\n",
       "    <tr style=\"text-align: right;\">\n",
       "      <th></th>\n",
       "      <th>id</th>\n",
       "      <th>target</th>\n",
       "    </tr>\n",
       "  </thead>\n",
       "  <tbody>\n",
       "    <tr>\n",
       "      <th>count</th>\n",
       "      <td>3263.000000</td>\n",
       "      <td>3263.000000</td>\n",
       "    </tr>\n",
       "    <tr>\n",
       "      <th>mean</th>\n",
       "      <td>5427.152927</td>\n",
       "      <td>0.337113</td>\n",
       "    </tr>\n",
       "    <tr>\n",
       "      <th>std</th>\n",
       "      <td>3146.427221</td>\n",
       "      <td>0.472796</td>\n",
       "    </tr>\n",
       "    <tr>\n",
       "      <th>min</th>\n",
       "      <td>0.000000</td>\n",
       "      <td>0.000000</td>\n",
       "    </tr>\n",
       "    <tr>\n",
       "      <th>25%</th>\n",
       "      <td>2683.000000</td>\n",
       "      <td>0.000000</td>\n",
       "    </tr>\n",
       "    <tr>\n",
       "      <th>50%</th>\n",
       "      <td>5500.000000</td>\n",
       "      <td>0.000000</td>\n",
       "    </tr>\n",
       "    <tr>\n",
       "      <th>75%</th>\n",
       "      <td>8176.000000</td>\n",
       "      <td>1.000000</td>\n",
       "    </tr>\n",
       "    <tr>\n",
       "      <th>max</th>\n",
       "      <td>10875.000000</td>\n",
       "      <td>1.000000</td>\n",
       "    </tr>\n",
       "  </tbody>\n",
       "</table>\n",
       "</div>"
      ],
      "text/plain": [
       "                 id       target\n",
       "count   3263.000000  3263.000000\n",
       "mean    5427.152927     0.337113\n",
       "std     3146.427221     0.472796\n",
       "min        0.000000     0.000000\n",
       "25%     2683.000000     0.000000\n",
       "50%     5500.000000     0.000000\n",
       "75%     8176.000000     1.000000\n",
       "max    10875.000000     1.000000"
      ]
     },
     "execution_count": 16,
     "metadata": {},
     "output_type": "execute_result"
    }
   ],
   "source": [
    "sample_submission.describe()"
   ]
  },
  {
   "cell_type": "code",
   "execution_count": 17,
   "id": "5e033dc9",
   "metadata": {
    "execution": {
     "iopub.execute_input": "2024-09-10T18:10:17.882293Z",
     "iopub.status.busy": "2024-09-10T18:10:17.881858Z",
     "iopub.status.idle": "2024-09-10T18:10:17.892682Z",
     "shell.execute_reply": "2024-09-10T18:10:17.891577Z"
    },
    "papermill": {
     "duration": 0.025441,
     "end_time": "2024-09-10T18:10:17.895524",
     "exception": false,
     "start_time": "2024-09-10T18:10:17.870083",
     "status": "completed"
    },
    "tags": []
   },
   "outputs": [],
   "source": [
    "sample_submission.to_csv(\"submission.csv\", index=False)"
   ]
  }
 ],
 "metadata": {
  "kaggle": {
   "accelerator": "none",
   "dataSources": [
    {
     "databundleVersionId": 869809,
     "sourceId": 17777,
     "sourceType": "competition"
    }
   ],
   "dockerImageVersionId": 30762,
   "isGpuEnabled": false,
   "isInternetEnabled": true,
   "language": "python",
   "sourceType": "notebook"
  },
  "kernelspec": {
   "display_name": "Python 3",
   "language": "python",
   "name": "python3"
  },
  "language_info": {
   "codemirror_mode": {
    "name": "ipython",
    "version": 3
   },
   "file_extension": ".py",
   "mimetype": "text/x-python",
   "name": "python",
   "nbconvert_exporter": "python",
   "pygments_lexer": "ipython3",
   "version": "3.10.14"
  },
  "papermill": {
   "default_parameters": {},
   "duration": 27.487778,
   "end_time": "2024-09-10T18:10:20.167603",
   "environment_variables": {},
   "exception": null,
   "input_path": "__notebook__.ipynb",
   "output_path": "__notebook__.ipynb",
   "parameters": {},
   "start_time": "2024-09-10T18:09:52.679825",
   "version": "2.6.0"
  }
 },
 "nbformat": 4,
 "nbformat_minor": 5
}
