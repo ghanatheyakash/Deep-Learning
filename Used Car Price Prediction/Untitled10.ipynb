{
  "nbformat": 4,
  "nbformat_minor": 0,
  "metadata": {
    "colab": {
      "provenance": [],
      "gpuType": "T4"
    },
    "kernelspec": {
      "name": "python3",
      "display_name": "Python 3"
    },
    "language_info": {
      "name": "python"
    },
    "accelerator": "GPU"
  },
  "cells": [
    {
      "cell_type": "code",
      "execution_count": 49,
      "metadata": {
        "id": "XzxSEBHLYNqG"
      },
      "outputs": [],
      "source": [
        "from sklearn.preprocessing import LabelEncoder\n",
        "import pandas as pd\n",
        "from sklearn.preprocessing import MinMaxScaler\n",
        "import tensorflow as tp\n",
        "from tensorflow import keras"
      ]
    },
    {
      "cell_type": "code",
      "source": [
        "train=pd.read_csv(\"/content/train.csv\")\n",
        "test=pd.read_csv(\"/content/test.csv\")"
      ],
      "metadata": {
        "id": "jOfA0QMyYiwt"
      },
      "execution_count": 50,
      "outputs": []
    },
    {
      "cell_type": "code",
      "source": [
        "df_train = train.drop(columns=[\"price\", \"id\", \"clean_title\"])"
      ],
      "metadata": {
        "id": "LOzEydfdYoQV"
      },
      "execution_count": 51,
      "outputs": []
    },
    {
      "cell_type": "code",
      "source": [
        "df_test = test.drop(columns=[\"id\", \"clean_title\"])"
      ],
      "metadata": {
        "id": "HRZmob4WYqs6"
      },
      "execution_count": 52,
      "outputs": []
    },
    {
      "cell_type": "code",
      "source": [
        "for column in df_train:\n",
        "  print(column,len(df_train[column].unique()))"
      ],
      "metadata": {
        "colab": {
          "base_uri": "https://localhost:8080/"
        },
        "id": "_mAbmsLZYsxX",
        "outputId": "ead4a76e-3412-46cc-8941-0bf0e05f4528"
      },
      "execution_count": 53,
      "outputs": [
        {
          "output_type": "stream",
          "name": "stdout",
          "text": [
            "brand 53\n",
            "model 1827\n",
            "model_year 34\n",
            "milage 3212\n",
            "fuel_type 7\n",
            "engine 1061\n",
            "transmission 46\n",
            "ext_col 260\n",
            "int_col 124\n",
            "accident 2\n"
          ]
        }
      ]
    },
    {
      "cell_type": "code",
      "source": [
        "df_train.dtypes"
      ],
      "metadata": {
        "colab": {
          "base_uri": "https://localhost:8080/"
        },
        "id": "Zom33SUFZoJz",
        "outputId": "00b785e0-5b99-4077-a9ab-3ad3a77af39b"
      },
      "execution_count": 54,
      "outputs": [
        {
          "output_type": "execute_result",
          "data": {
            "text/plain": [
              "brand           object\n",
              "model           object\n",
              "model_year       int64\n",
              "milage           int64\n",
              "fuel_type       object\n",
              "engine          object\n",
              "transmission    object\n",
              "ext_col         object\n",
              "int_col         object\n",
              "accident        object\n",
              "dtype: object"
            ]
          },
          "metadata": {},
          "execution_count": 54
        }
      ]
    },
    {
      "cell_type": "code",
      "source": [
        "df_test.dtypes"
      ],
      "metadata": {
        "colab": {
          "base_uri": "https://localhost:8080/"
        },
        "id": "uL6pxJ3wcvEp",
        "outputId": "26c62018-4fd3-4b6c-ad76-25d9e4503d59"
      },
      "execution_count": 55,
      "outputs": [
        {
          "output_type": "execute_result",
          "data": {
            "text/plain": [
              "brand           object\n",
              "model           object\n",
              "model_year       int64\n",
              "milage           int64\n",
              "fuel_type       object\n",
              "engine          object\n",
              "transmission    object\n",
              "ext_col         object\n",
              "int_col         object\n",
              "accident        object\n",
              "dtype: object"
            ]
          },
          "metadata": {},
          "execution_count": 55
        }
      ]
    },
    {
      "cell_type": "code",
      "source": [
        "combined = pd.concat([df_train, df_test])"
      ],
      "metadata": {
        "id": "xOnYTlQFbKha"
      },
      "execution_count": 56,
      "outputs": []
    },
    {
      "cell_type": "code",
      "source": [
        "columns=[\"brand\",\"accident\",\"model\",\"fuel_type\",\"engine\",\"transmission\",\"ext_col\",\"int_col\"]"
      ],
      "metadata": {
        "id": "0SEtj3gqeVSn"
      },
      "execution_count": 57,
      "outputs": []
    },
    {
      "cell_type": "code",
      "source": [
        "encoder = LabelEncoder()\n",
        "for column in columns:\n",
        "    # Fit the encoder on the combined data\n",
        "    encoder.fit(combined[column])\n",
        "\n",
        "    # Transform train and test data separately\n",
        "    df_train[column] = encoder.transform(df_train[column])\n",
        "    df_test[column] = encoder.transform(df_test[column])\n",
        "\n",
        "print(\"Encoded Train Data:\")\n",
        "print(df_train)\n",
        "print(\"\\nEncoded Test Data:\")\n",
        "print(df_test)"
      ],
      "metadata": {
        "colab": {
          "base_uri": "https://localhost:8080/"
        },
        "id": "bCgUvrouedA4",
        "outputId": "9492afa7-ad1c-4f8a-a65b-08859f48aa1a"
      },
      "execution_count": 58,
      "outputs": [
        {
          "output_type": "stream",
          "name": "stdout",
          "text": [
            "Encoded Train Data:\n",
            "       brand  model  model_year  milage  fuel_type  engine  transmission  \\\n",
            "0         14    649        2018   74349          2     730             2   \n",
            "1          4     49        2007   80000          2     544            19   \n",
            "2         21   1803        2009   91491          2     551            15   \n",
            "3          4   1779        2022    2437          3     657            45   \n",
            "4         40    699        2001  111000          2     224            35   \n",
            "...      ...    ...         ...     ...        ...     ...           ...   \n",
            "54268      4   1776        2017   29000          2     870            28   \n",
            "54269      3    167        2015   94634          1     273            15   \n",
            "54270     41    424        2013   40989          2     830            45   \n",
            "54271     41    144        2023    1518          2     774            30   \n",
            "54272      3    178        2021   35000          3     380            28   \n",
            "\n",
            "       ext_col  int_col  accident  \n",
            "0           28       63         1  \n",
            "1           19       12         1  \n",
            "2          194        9         1  \n",
            "3          107       28         1  \n",
            "4          263       12         1  \n",
            "...        ...      ...       ...  \n",
            "54268      263       28         1  \n",
            "54269       19       12         0  \n",
            "54270      263       12         0  \n",
            "54271       13       28         1  \n",
            "54272       19       12         1  \n",
            "\n",
            "[54273 rows x 10 columns]\n",
            "\n",
            "Encoded Test Data:\n",
            "       brand  model  model_year  milage  fuel_type  engine  transmission  \\\n",
            "0         35    542        2014   73000          2     564            35   \n",
            "1         26   1294        2015  128032          2     422            28   \n",
            "2         35    328        2015   51983          2     321            22   \n",
            "3         25   1373        2018   29500          2     945            45   \n",
            "4          4   1775        2020   90000          2     656            28   \n",
            "...      ...    ...         ...     ...        ...     ...           ...   \n",
            "36178     15   1830        2019    4500          2     838             2   \n",
            "36179      9   1541        2004  185000          2     486             7   \n",
            "36180     51    493        2011  116000          2      33            11   \n",
            "36181     27   1122        2019   39000          2     874             2   \n",
            "36182      9   1639        2012  162731          1     621            35   \n",
            "\n",
            "       ext_col  int_col  accident  \n",
            "0          263        9         1  \n",
            "1          226       12         1  \n",
            "2           28      129         1  \n",
            "3          263      129         0  \n",
            "4          263       12         0  \n",
            "...        ...      ...       ...  \n",
            "36178      107       12         1  \n",
            "36179      201       63         0  \n",
            "36180       13       63         1  \n",
            "36181       19       95         1  \n",
            "36182       19       12         0  \n",
            "\n",
            "[36183 rows x 10 columns]\n"
          ]
        }
      ]
    },
    {
      "cell_type": "code",
      "source": [
        "col=[\"brand\",\"model\",\"model_year\",\"milage\",\"fuel_type\",\"engine\",\"transmission\",\"ext_col\",\"int_col\",\"accident\"]\n",
        "from sklearn.preprocessing import MinMaxScaler\n",
        "scaler = MinMaxScaler()\n",
        "df_train[col]=scaler.fit_transform(df_train[col])\n",
        "df_test[col]=scaler.transform(df_test[col])"
      ],
      "metadata": {
        "id": "TO2HE2uJeqMO"
      },
      "execution_count": 59,
      "outputs": []
    },
    {
      "cell_type": "code",
      "source": [
        "print(\"Encoded Train Data:\")\n",
        "print(df_train)\n",
        "print(\"\\nEncoded Test Data:\")\n",
        "print(df_test)"
      ],
      "metadata": {
        "colab": {
          "base_uri": "https://localhost:8080/"
        },
        "id": "SPLMPPMkeq2o",
        "outputId": "8c490aeb-6e56-472b-d9e1-bfa91181a0c6"
      },
      "execution_count": 60,
      "outputs": [
        {
          "output_type": "stream",
          "name": "stdout",
          "text": [
            "Encoded Train Data:\n",
            "          brand     model  model_year    milage  fuel_type    engine  \\\n",
            "0      0.264151  0.349300        0.88  0.183376   0.333333  0.678439   \n",
            "1      0.075472  0.026372        0.66  0.197333   0.333333  0.505576   \n",
            "2      0.396226  0.970398        0.70  0.225713   0.333333  0.512082   \n",
            "3      0.075472  0.957481        0.96  0.005772   0.500000  0.610595   \n",
            "4      0.754717  0.376211        0.54  0.273895   0.333333  0.208178   \n",
            "...         ...       ...         ...       ...        ...       ...   \n",
            "54268  0.075472  0.955867        0.86  0.071376   0.333333  0.808550   \n",
            "54269  0.056604  0.089882        0.82  0.233475   0.166667  0.253717   \n",
            "54270  0.773585  0.228202        0.78  0.100985   0.333333  0.771375   \n",
            "54271  0.773585  0.077503        0.98  0.003502   0.333333  0.719331   \n",
            "54272  0.056604  0.095802        0.94  0.086194   0.500000  0.353160   \n",
            "\n",
            "       transmission   ext_col   int_col  accident  \n",
            "0          0.042553  0.102190  0.477273       1.0  \n",
            "1          0.404255  0.069343  0.090909       1.0  \n",
            "2          0.319149  0.708029  0.068182       1.0  \n",
            "3          0.957447  0.390511  0.212121       1.0  \n",
            "4          0.744681  0.959854  0.090909       1.0  \n",
            "...             ...       ...       ...       ...  \n",
            "54268      0.595745  0.959854  0.212121       1.0  \n",
            "54269      0.319149  0.069343  0.090909       0.0  \n",
            "54270      0.957447  0.959854  0.090909       0.0  \n",
            "54271      0.638298  0.047445  0.212121       1.0  \n",
            "54272      0.595745  0.069343  0.090909       1.0  \n",
            "\n",
            "[54273 rows x 10 columns]\n",
            "\n",
            "Encoded Test Data:\n",
            "          brand     model  model_year    milage  fuel_type    engine  \\\n",
            "0      0.660377  0.291712        0.80  0.180044   0.333333  0.524164   \n",
            "1      0.490566  0.696448        0.82  0.315959   0.333333  0.392193   \n",
            "2      0.660377  0.176534        0.82  0.128138   0.333333  0.298327   \n",
            "3      0.471698  0.738967        0.88  0.072611   0.333333  0.878253   \n",
            "4      0.075472  0.955328        0.92  0.222030   0.333333  0.609665   \n",
            "...         ...       ...         ...       ...        ...       ...   \n",
            "36178  0.283019  0.984930        0.90  0.010867   0.333333  0.778810   \n",
            "36179  0.169811  0.829386        0.60  0.456656   0.333333  0.451673   \n",
            "36180  0.962264  0.265339        0.74  0.286244   0.333333  0.030669   \n",
            "36181  0.509434  0.603875        0.90  0.096073   0.333333  0.812268   \n",
            "36182  0.169811  0.882131        0.76  0.401657   0.166667  0.577138   \n",
            "\n",
            "       transmission   ext_col   int_col  accident  \n",
            "0          0.744681  0.959854  0.068182       1.0  \n",
            "1          0.595745  0.824818  0.090909       1.0  \n",
            "2          0.468085  0.102190  0.977273       1.0  \n",
            "3          0.957447  0.959854  0.977273       0.0  \n",
            "4          0.595745  0.959854  0.090909       0.0  \n",
            "...             ...       ...       ...       ...  \n",
            "36178      0.042553  0.390511  0.090909       1.0  \n",
            "36179      0.148936  0.733577  0.477273       0.0  \n",
            "36180      0.234043  0.047445  0.477273       1.0  \n",
            "36181      0.042553  0.069343  0.719697       1.0  \n",
            "36182      0.744681  0.069343  0.090909       0.0  \n",
            "\n",
            "[36183 rows x 10 columns]\n"
          ]
        }
      ]
    },
    {
      "cell_type": "code",
      "source": [
        "train_y=train[\"price\"]\n",
        "print(train_y)"
      ],
      "metadata": {
        "colab": {
          "base_uri": "https://localhost:8080/"
        },
        "id": "3P2f6QPjfw80",
        "outputId": "0f23a691-70af-41fc-a95e-95080054c790"
      },
      "execution_count": 61,
      "outputs": [
        {
          "output_type": "stream",
          "name": "stdout",
          "text": [
            "0         11000\n",
            "1          8250\n",
            "2         15000\n",
            "3         63500\n",
            "4          7850\n",
            "          ...  \n",
            "54268     29000\n",
            "54269      6500\n",
            "54270     18950\n",
            "54271    194965\n",
            "54272     37499\n",
            "Name: price, Length: 54273, dtype: int64\n"
          ]
        }
      ]
    },
    {
      "cell_type": "code",
      "source": [
        "import tensorflow as tp\n",
        "from tensorflow import keras\n",
        "model=keras.Sequential([\n",
        "    keras.layers.Dense(25,input_shape=(df_train.shape[1],),activation=\"relu\"),\n",
        "    keras.layers.Dense(25,activation=\"relu\"),\n",
        "    keras.layers.Dense(1)\n",
        "\n",
        "])\n",
        "model.compile(\n",
        "    optimizer=\"adam\",\n",
        "    loss=\"mean_squared_error\",\n",
        "    metrics=[keras.metrics.RootMeanSquaredError()])"
      ],
      "metadata": {
        "id": "HKR12mbvgA_K"
      },
      "execution_count": 62,
      "outputs": []
    },
    {
      "cell_type": "code",
      "source": [
        "model.fit(df_train,train_y,epochs=200)"
      ],
      "metadata": {
        "colab": {
          "base_uri": "https://localhost:8080/"
        },
        "id": "TLJfKcmCgNPD",
        "outputId": "835c7cb7-7d10-4cc4-e369-8bf2d3f73717"
      },
      "execution_count": null,
      "outputs": [
        {
          "output_type": "stream",
          "name": "stdout",
          "text": [
            "Epoch 1/200\n",
            "1697/1697 [==============================] - 7s 3ms/step - loss: 6263278592.0000 - root_mean_squared_error: 79140.8750\n",
            "Epoch 2/200\n",
            "1697/1697 [==============================] - 5s 3ms/step - loss: 5228419072.0000 - root_mean_squared_error: 72307.8047\n",
            "Epoch 3/200\n",
            "1697/1697 [==============================] - 7s 4ms/step - loss: 5175814656.0000 - root_mean_squared_error: 71943.1328\n",
            "Epoch 4/200\n",
            "1697/1697 [==============================] - 5s 3ms/step - loss: 5141192192.0000 - root_mean_squared_error: 71702.1094\n",
            "Epoch 5/200\n",
            "1697/1697 [==============================] - 7s 4ms/step - loss: 5105347584.0000 - root_mean_squared_error: 71451.7109\n",
            "Epoch 6/200\n",
            "1697/1697 [==============================] - 5s 3ms/step - loss: 5069288448.0000 - root_mean_squared_error: 71198.9375\n",
            "Epoch 7/200\n",
            "1697/1697 [==============================] - 5s 3ms/step - loss: 5034017792.0000 - root_mean_squared_error: 70950.8125\n",
            "Epoch 8/200\n",
            "1697/1697 [==============================] - 6s 4ms/step - loss: 5001283584.0000 - root_mean_squared_error: 70719.7500\n",
            "Epoch 9/200\n",
            "1697/1697 [==============================] - 5s 3ms/step - loss: 4971043840.0000 - root_mean_squared_error: 70505.6250\n",
            "Epoch 10/200\n",
            "1697/1697 [==============================] - 6s 4ms/step - loss: 4943493632.0000 - root_mean_squared_error: 70309.9844\n",
            "Epoch 11/200\n",
            "1697/1697 [==============================] - 5s 3ms/step - loss: 4920865280.0000 - root_mean_squared_error: 70148.8750\n",
            "Epoch 12/200\n",
            "1697/1697 [==============================] - 5s 3ms/step - loss: 4901430784.0000 - root_mean_squared_error: 70010.2188\n",
            "Epoch 13/200\n",
            "1697/1697 [==============================] - 6s 3ms/step - loss: 4885986816.0000 - root_mean_squared_error: 69899.8359\n",
            "Epoch 14/200\n",
            "1697/1697 [==============================] - 5s 3ms/step - loss: 4874384384.0000 - root_mean_squared_error: 69816.7891\n",
            "Epoch 15/200\n",
            "1697/1697 [==============================] - 6s 4ms/step - loss: 4863767040.0000 - root_mean_squared_error: 69740.7109\n",
            "Epoch 16/200\n",
            "1697/1697 [==============================] - 5s 3ms/step - loss: 4857057280.0000 - root_mean_squared_error: 69692.5859\n",
            "Epoch 17/200\n",
            "1697/1697 [==============================] - 6s 3ms/step - loss: 4850350080.0000 - root_mean_squared_error: 69644.4531\n",
            "Epoch 18/200\n",
            "1697/1697 [==============================] - 5s 3ms/step - loss: 4845066240.0000 - root_mean_squared_error: 69606.5078\n",
            "Epoch 19/200\n",
            "1697/1697 [==============================] - 5s 3ms/step - loss: 4840687104.0000 - root_mean_squared_error: 69575.0469\n",
            "Epoch 20/200\n",
            "1697/1697 [==============================] - 6s 3ms/step - loss: 4836405760.0000 - root_mean_squared_error: 69544.2734\n",
            "Epoch 21/200\n",
            "1697/1697 [==============================] - 5s 3ms/step - loss: 4832276992.0000 - root_mean_squared_error: 69514.5781\n",
            "Epoch 22/200\n",
            "1697/1697 [==============================] - 6s 3ms/step - loss: 4829324800.0000 - root_mean_squared_error: 69493.3438\n",
            "Epoch 23/200\n",
            "1697/1697 [==============================] - 5s 3ms/step - loss: 4826028032.0000 - root_mean_squared_error: 69469.6172\n",
            "Epoch 24/200\n",
            "1697/1697 [==============================] - 5s 3ms/step - loss: 4823273984.0000 - root_mean_squared_error: 69449.7969\n",
            "Epoch 25/200\n",
            "1697/1697 [==============================] - 6s 3ms/step - loss: 4820674560.0000 - root_mean_squared_error: 69431.0781\n",
            "Epoch 26/200\n",
            "1697/1697 [==============================] - 5s 3ms/step - loss: 4819099648.0000 - root_mean_squared_error: 69419.7344\n",
            "Epoch 27/200\n",
            "1697/1697 [==============================] - 6s 3ms/step - loss: 4817030144.0000 - root_mean_squared_error: 69404.8281\n",
            "Epoch 28/200\n",
            "1697/1697 [==============================] - 5s 3ms/step - loss: 4815660544.0000 - root_mean_squared_error: 69394.9609\n",
            "Epoch 29/200\n",
            "1697/1697 [==============================] - 7s 4ms/step - loss: 4813680128.0000 - root_mean_squared_error: 69380.6875\n",
            "Epoch 30/200\n",
            "1697/1697 [==============================] - 5s 3ms/step - loss: 4812310016.0000 - root_mean_squared_error: 69370.8125\n",
            "Epoch 31/200\n",
            "1697/1697 [==============================] - 6s 3ms/step - loss: 4810652160.0000 - root_mean_squared_error: 69358.8672\n",
            "Epoch 32/200\n",
            "1697/1697 [==============================] - 5s 3ms/step - loss: 4809276416.0000 - root_mean_squared_error: 69348.9453\n",
            "Epoch 33/200\n",
            "1697/1697 [==============================] - 5s 3ms/step - loss: 4807923200.0000 - root_mean_squared_error: 69339.1875\n",
            "Epoch 34/200\n",
            "1697/1697 [==============================] - 6s 3ms/step - loss: 4806978048.0000 - root_mean_squared_error: 69332.3750\n",
            "Epoch 35/200\n",
            "1697/1697 [==============================] - 5s 3ms/step - loss: 4805426176.0000 - root_mean_squared_error: 69321.1797\n",
            "Epoch 36/200\n",
            "1697/1697 [==============================] - 5s 3ms/step - loss: 4804886528.0000 - root_mean_squared_error: 69317.2891\n",
            "Epoch 37/200\n",
            "1697/1697 [==============================] - 5s 3ms/step - loss: 4803639808.0000 - root_mean_squared_error: 69308.2969\n",
            "Epoch 38/200\n",
            " 262/1697 [===>..........................] - ETA: 4s - loss: 3962331648.0000 - root_mean_squared_error: 62947.0547"
          ]
        }
      ]
    },
    {
      "cell_type": "code",
      "source": [
        "predicted=model.predict(df_test)"
      ],
      "metadata": {
        "id": "MxUJ7ZNmgaF7"
      },
      "execution_count": null,
      "outputs": []
    },
    {
      "cell_type": "code",
      "source": [
        "pred=pd.DataFrame(predicted)\n",
        "samp=pd.read_csv(\"/content/sample_submission.csv\")\n",
        "datasets=pd.concat([samp[\"id\"],pred],axis=1)\n",
        "datasets.columns=[\"id\",\"price\"]\n",
        "datasets.to_csv(\"sample_prediction2.csv\",index=False)"
      ],
      "metadata": {
        "id": "aTQ5nGVyhp1g"
      },
      "execution_count": null,
      "outputs": []
    },
    {
      "cell_type": "code",
      "source": [
        "datasets"
      ],
      "metadata": {
        "id": "O6jDGYZ8ijLW"
      },
      "execution_count": null,
      "outputs": []
    },
    {
      "cell_type": "code",
      "source": [],
      "metadata": {
        "id": "QWiAyX68isv1"
      },
      "execution_count": null,
      "outputs": []
    }
  ]
}